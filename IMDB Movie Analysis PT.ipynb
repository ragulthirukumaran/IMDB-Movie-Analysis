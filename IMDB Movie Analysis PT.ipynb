{
 "cells": [
  {
   "cell_type": "code",
   "execution_count": 1,
   "id": "9016ed1b-104b-4b1e-ae39-044cd2b36866",
   "metadata": {},
   "outputs": [],
   "source": [
    "import pandas as pd\n",
    "import numpy as np\n",
    "import seaborn as sns\n",
    "import matplotlib.pyplot as plt"
   ]
  },
  {
   "cell_type": "code",
   "execution_count": 2,
   "id": "2bd6d630-1189-4097-9d7d-82db416855ba",
   "metadata": {},
   "outputs": [],
   "source": [
    "pd.set_option(\"display.max_columns\",500)"
   ]
  },
  {
   "cell_type": "code",
   "execution_count": 3,
   "id": "919e21ee-f1f6-46b5-bd45-9f25dbe5d1fe",
   "metadata": {},
   "outputs": [
    {
     "data": {
      "text/html": [
       "<div>\n",
       "<style scoped>\n",
       "    .dataframe tbody tr th:only-of-type {\n",
       "        vertical-align: middle;\n",
       "    }\n",
       "\n",
       "    .dataframe tbody tr th {\n",
       "        vertical-align: top;\n",
       "    }\n",
       "\n",
       "    .dataframe thead th {\n",
       "        text-align: right;\n",
       "    }\n",
       "</style>\n",
       "<table border=\"1\" class=\"dataframe\">\n",
       "  <thead>\n",
       "    <tr style=\"text-align: right;\">\n",
       "      <th></th>\n",
       "      <th>color</th>\n",
       "      <th>director_name</th>\n",
       "      <th>num_critic_for_reviews</th>\n",
       "      <th>duration</th>\n",
       "      <th>director_facebook_likes</th>\n",
       "      <th>actor_3_facebook_likes</th>\n",
       "      <th>actor_2_name</th>\n",
       "      <th>actor_1_facebook_likes</th>\n",
       "      <th>gross</th>\n",
       "      <th>genres</th>\n",
       "      <th>actor_1_name</th>\n",
       "      <th>movie_title</th>\n",
       "      <th>num_voted_users</th>\n",
       "      <th>cast_total_facebook_likes</th>\n",
       "      <th>actor_3_name</th>\n",
       "      <th>facenumber_in_poster</th>\n",
       "      <th>plot_keywords</th>\n",
       "      <th>movie_imdb_link</th>\n",
       "      <th>num_user_for_reviews</th>\n",
       "      <th>language</th>\n",
       "      <th>country</th>\n",
       "      <th>content_rating</th>\n",
       "      <th>budget</th>\n",
       "      <th>title_year</th>\n",
       "      <th>actor_2_facebook_likes</th>\n",
       "      <th>imdb_score</th>\n",
       "      <th>aspect_ratio</th>\n",
       "      <th>movie_facebook_likes</th>\n",
       "    </tr>\n",
       "  </thead>\n",
       "  <tbody>\n",
       "    <tr>\n",
       "      <th>0</th>\n",
       "      <td>Color</td>\n",
       "      <td>James Cameron</td>\n",
       "      <td>723.0</td>\n",
       "      <td>178.0</td>\n",
       "      <td>0.0</td>\n",
       "      <td>855.0</td>\n",
       "      <td>Joel David Moore</td>\n",
       "      <td>1000.0</td>\n",
       "      <td>760505847.0</td>\n",
       "      <td>Action|Adventure|Fantasy|Sci-Fi</td>\n",
       "      <td>CCH Pounder</td>\n",
       "      <td>Avatar</td>\n",
       "      <td>886204</td>\n",
       "      <td>4834</td>\n",
       "      <td>Wes Studi</td>\n",
       "      <td>0.0</td>\n",
       "      <td>avatar|future|marine|native|paraplegic</td>\n",
       "      <td>http://www.imdb.com/title/tt0499549/?ref_=fn_t...</td>\n",
       "      <td>3054</td>\n",
       "      <td>English</td>\n",
       "      <td>USA</td>\n",
       "      <td>PG-13</td>\n",
       "      <td>237000000.0</td>\n",
       "      <td>2009.0</td>\n",
       "      <td>936.0</td>\n",
       "      <td>7.9</td>\n",
       "      <td>1.78</td>\n",
       "      <td>33000</td>\n",
       "    </tr>\n",
       "    <tr>\n",
       "      <th>1</th>\n",
       "      <td>Color</td>\n",
       "      <td>Gore Verbinski</td>\n",
       "      <td>302.0</td>\n",
       "      <td>169.0</td>\n",
       "      <td>563.0</td>\n",
       "      <td>1000.0</td>\n",
       "      <td>Orlando Bloom</td>\n",
       "      <td>40000.0</td>\n",
       "      <td>309404152.0</td>\n",
       "      <td>Action|Adventure|Fantasy</td>\n",
       "      <td>Johnny Depp</td>\n",
       "      <td>Pirates of the Caribbean: At World's End</td>\n",
       "      <td>471220</td>\n",
       "      <td>48350</td>\n",
       "      <td>Jack Davenport</td>\n",
       "      <td>0.0</td>\n",
       "      <td>goddess|marriage ceremony|marriage proposal|pi...</td>\n",
       "      <td>http://www.imdb.com/title/tt0449088/?ref_=fn_t...</td>\n",
       "      <td>1238</td>\n",
       "      <td>English</td>\n",
       "      <td>USA</td>\n",
       "      <td>PG-13</td>\n",
       "      <td>300000000.0</td>\n",
       "      <td>2007.0</td>\n",
       "      <td>5000.0</td>\n",
       "      <td>7.1</td>\n",
       "      <td>2.35</td>\n",
       "      <td>0</td>\n",
       "    </tr>\n",
       "    <tr>\n",
       "      <th>2</th>\n",
       "      <td>Color</td>\n",
       "      <td>Sam Mendes</td>\n",
       "      <td>602.0</td>\n",
       "      <td>148.0</td>\n",
       "      <td>0.0</td>\n",
       "      <td>161.0</td>\n",
       "      <td>Rory Kinnear</td>\n",
       "      <td>11000.0</td>\n",
       "      <td>200074175.0</td>\n",
       "      <td>Action|Adventure|Thriller</td>\n",
       "      <td>Christoph Waltz</td>\n",
       "      <td>Spectre</td>\n",
       "      <td>275868</td>\n",
       "      <td>11700</td>\n",
       "      <td>Stephanie Sigman</td>\n",
       "      <td>1.0</td>\n",
       "      <td>bomb|espionage|sequel|spy|terrorist</td>\n",
       "      <td>http://www.imdb.com/title/tt2379713/?ref_=fn_t...</td>\n",
       "      <td>994</td>\n",
       "      <td>English</td>\n",
       "      <td>UK</td>\n",
       "      <td>PG-13</td>\n",
       "      <td>245000000.0</td>\n",
       "      <td>2015.0</td>\n",
       "      <td>393.0</td>\n",
       "      <td>6.8</td>\n",
       "      <td>2.35</td>\n",
       "      <td>85000</td>\n",
       "    </tr>\n",
       "    <tr>\n",
       "      <th>3</th>\n",
       "      <td>Color</td>\n",
       "      <td>Christopher Nolan</td>\n",
       "      <td>813.0</td>\n",
       "      <td>164.0</td>\n",
       "      <td>22000.0</td>\n",
       "      <td>23000.0</td>\n",
       "      <td>Christian Bale</td>\n",
       "      <td>27000.0</td>\n",
       "      <td>448130642.0</td>\n",
       "      <td>Action|Thriller</td>\n",
       "      <td>Tom Hardy</td>\n",
       "      <td>The Dark Knight Rises</td>\n",
       "      <td>1144337</td>\n",
       "      <td>106759</td>\n",
       "      <td>Joseph Gordon-Levitt</td>\n",
       "      <td>0.0</td>\n",
       "      <td>deception|imprisonment|lawlessness|police offi...</td>\n",
       "      <td>http://www.imdb.com/title/tt1345836/?ref_=fn_t...</td>\n",
       "      <td>2701</td>\n",
       "      <td>English</td>\n",
       "      <td>USA</td>\n",
       "      <td>PG-13</td>\n",
       "      <td>250000000.0</td>\n",
       "      <td>2012.0</td>\n",
       "      <td>23000.0</td>\n",
       "      <td>8.5</td>\n",
       "      <td>2.35</td>\n",
       "      <td>164000</td>\n",
       "    </tr>\n",
       "    <tr>\n",
       "      <th>4</th>\n",
       "      <td>NaN</td>\n",
       "      <td>Doug Walker</td>\n",
       "      <td>NaN</td>\n",
       "      <td>NaN</td>\n",
       "      <td>131.0</td>\n",
       "      <td>NaN</td>\n",
       "      <td>Rob Walker</td>\n",
       "      <td>131.0</td>\n",
       "      <td>NaN</td>\n",
       "      <td>Documentary</td>\n",
       "      <td>Doug Walker</td>\n",
       "      <td>Star Wars: Episode VII - The Force Awakens    ...</td>\n",
       "      <td>8</td>\n",
       "      <td>143</td>\n",
       "      <td>NaN</td>\n",
       "      <td>0.0</td>\n",
       "      <td>NaN</td>\n",
       "      <td>http://www.imdb.com/title/tt5289954/?ref_=fn_t...</td>\n",
       "      <td></td>\n",
       "      <td>NaN</td>\n",
       "      <td>NaN</td>\n",
       "      <td>NaN</td>\n",
       "      <td>NaN</td>\n",
       "      <td>NaN</td>\n",
       "      <td>12.0</td>\n",
       "      <td>7.1</td>\n",
       "      <td>NaN</td>\n",
       "      <td>0</td>\n",
       "    </tr>\n",
       "    <tr>\n",
       "      <th>...</th>\n",
       "      <td>...</td>\n",
       "      <td>...</td>\n",
       "      <td>...</td>\n",
       "      <td>...</td>\n",
       "      <td>...</td>\n",
       "      <td>...</td>\n",
       "      <td>...</td>\n",
       "      <td>...</td>\n",
       "      <td>...</td>\n",
       "      <td>...</td>\n",
       "      <td>...</td>\n",
       "      <td>...</td>\n",
       "      <td>...</td>\n",
       "      <td>...</td>\n",
       "      <td>...</td>\n",
       "      <td>...</td>\n",
       "      <td>...</td>\n",
       "      <td>...</td>\n",
       "      <td>...</td>\n",
       "      <td>...</td>\n",
       "      <td>...</td>\n",
       "      <td>...</td>\n",
       "      <td>...</td>\n",
       "      <td>...</td>\n",
       "      <td>...</td>\n",
       "      <td>...</td>\n",
       "      <td>...</td>\n",
       "      <td>...</td>\n",
       "    </tr>\n",
       "    <tr>\n",
       "      <th>5038</th>\n",
       "      <td>Color</td>\n",
       "      <td>Scott Smith</td>\n",
       "      <td>1.0</td>\n",
       "      <td>87.0</td>\n",
       "      <td>2.0</td>\n",
       "      <td>318.0</td>\n",
       "      <td>Daphne Zuniga</td>\n",
       "      <td>637.0</td>\n",
       "      <td>NaN</td>\n",
       "      <td>Comedy|Drama</td>\n",
       "      <td>Eric Mabius</td>\n",
       "      <td>Signed Sealed Delivered</td>\n",
       "      <td>629</td>\n",
       "      <td>2283</td>\n",
       "      <td>Crystal Lowe</td>\n",
       "      <td>2.0</td>\n",
       "      <td>fraud|postal worker|prison|theft|trial</td>\n",
       "      <td>http://www.imdb.com/title/tt3000844/?ref_=fn_t...</td>\n",
       "      <td>6</td>\n",
       "      <td>English</td>\n",
       "      <td>Canada</td>\n",
       "      <td>NaN</td>\n",
       "      <td>NaN</td>\n",
       "      <td>2013.0</td>\n",
       "      <td>470.0</td>\n",
       "      <td>7.7</td>\n",
       "      <td>NaN</td>\n",
       "      <td>84</td>\n",
       "    </tr>\n",
       "    <tr>\n",
       "      <th>5039</th>\n",
       "      <td>Color</td>\n",
       "      <td>NaN</td>\n",
       "      <td>43.0</td>\n",
       "      <td>43.0</td>\n",
       "      <td>NaN</td>\n",
       "      <td>319.0</td>\n",
       "      <td>Valorie Curry</td>\n",
       "      <td>841.0</td>\n",
       "      <td>NaN</td>\n",
       "      <td>Crime|Drama|Mystery|Thriller</td>\n",
       "      <td>Natalie Zea</td>\n",
       "      <td>The Following</td>\n",
       "      <td>73839</td>\n",
       "      <td>1753</td>\n",
       "      <td>Sam Underwood</td>\n",
       "      <td>1.0</td>\n",
       "      <td>cult|fbi|hideout|prison escape|serial killer</td>\n",
       "      <td>http://www.imdb.com/title/tt2071645/?ref_=fn_t...</td>\n",
       "      <td>359</td>\n",
       "      <td>English</td>\n",
       "      <td>USA</td>\n",
       "      <td>TV-14</td>\n",
       "      <td>NaN</td>\n",
       "      <td>NaN</td>\n",
       "      <td>593.0</td>\n",
       "      <td>7.5</td>\n",
       "      <td>16.00</td>\n",
       "      <td>32000</td>\n",
       "    </tr>\n",
       "    <tr>\n",
       "      <th>5040</th>\n",
       "      <td>Color</td>\n",
       "      <td>Benjamin Roberds</td>\n",
       "      <td>13.0</td>\n",
       "      <td>76.0</td>\n",
       "      <td>0.0</td>\n",
       "      <td>0.0</td>\n",
       "      <td>Maxwell Moody</td>\n",
       "      <td>0.0</td>\n",
       "      <td>NaN</td>\n",
       "      <td>Drama|Horror|Thriller</td>\n",
       "      <td>Eva Boehnke</td>\n",
       "      <td>A Plague So Pleasant</td>\n",
       "      <td>38</td>\n",
       "      <td>0</td>\n",
       "      <td>David Chandler</td>\n",
       "      <td>0.0</td>\n",
       "      <td>NaN</td>\n",
       "      <td>http://www.imdb.com/title/tt2107644/?ref_=fn_t...</td>\n",
       "      <td>3</td>\n",
       "      <td>English</td>\n",
       "      <td>USA</td>\n",
       "      <td>NaN</td>\n",
       "      <td>1400.0</td>\n",
       "      <td>2013.0</td>\n",
       "      <td>0.0</td>\n",
       "      <td>6.3</td>\n",
       "      <td>NaN</td>\n",
       "      <td>16</td>\n",
       "    </tr>\n",
       "    <tr>\n",
       "      <th>5041</th>\n",
       "      <td>Color</td>\n",
       "      <td>Daniel Hsia</td>\n",
       "      <td>14.0</td>\n",
       "      <td>100.0</td>\n",
       "      <td>0.0</td>\n",
       "      <td>489.0</td>\n",
       "      <td>Daniel Henney</td>\n",
       "      <td>946.0</td>\n",
       "      <td>10443.0</td>\n",
       "      <td>Comedy|Drama|Romance</td>\n",
       "      <td>Alan Ruck</td>\n",
       "      <td>Shanghai Calling</td>\n",
       "      <td>1255</td>\n",
       "      <td>2386</td>\n",
       "      <td>Eliza Coupe</td>\n",
       "      <td>5.0</td>\n",
       "      <td>NaN</td>\n",
       "      <td>http://www.imdb.com/title/tt2070597/?ref_=fn_t...</td>\n",
       "      <td>9</td>\n",
       "      <td>English</td>\n",
       "      <td>USA</td>\n",
       "      <td>PG-13</td>\n",
       "      <td>NaN</td>\n",
       "      <td>2012.0</td>\n",
       "      <td>719.0</td>\n",
       "      <td>6.3</td>\n",
       "      <td>2.35</td>\n",
       "      <td>660</td>\n",
       "    </tr>\n",
       "    <tr>\n",
       "      <th>5042</th>\n",
       "      <td>Color</td>\n",
       "      <td>Jon Gunn</td>\n",
       "      <td>43.0</td>\n",
       "      <td>90.0</td>\n",
       "      <td>16.0</td>\n",
       "      <td>16.0</td>\n",
       "      <td>Brian Herzlinger</td>\n",
       "      <td>86.0</td>\n",
       "      <td>85222.0</td>\n",
       "      <td>Documentary</td>\n",
       "      <td>John August</td>\n",
       "      <td>My Date with Drew</td>\n",
       "      <td>4285</td>\n",
       "      <td>163</td>\n",
       "      <td>Jon Gunn</td>\n",
       "      <td>0.0</td>\n",
       "      <td>actress name in title|crush|date|four word tit...</td>\n",
       "      <td>http://www.imdb.com/title/tt0378407/?ref_=fn_t...</td>\n",
       "      <td>84</td>\n",
       "      <td>English</td>\n",
       "      <td>USA</td>\n",
       "      <td>PG</td>\n",
       "      <td>1100.0</td>\n",
       "      <td>2004.0</td>\n",
       "      <td>23.0</td>\n",
       "      <td>6.6</td>\n",
       "      <td>1.85</td>\n",
       "      <td>456</td>\n",
       "    </tr>\n",
       "  </tbody>\n",
       "</table>\n",
       "<p>5043 rows × 28 columns</p>\n",
       "</div>"
      ],
      "text/plain": [
       "      color      director_name  num_critic_for_reviews  duration  \\\n",
       "0     Color      James Cameron                   723.0     178.0   \n",
       "1     Color     Gore Verbinski                   302.0     169.0   \n",
       "2     Color         Sam Mendes                   602.0     148.0   \n",
       "3     Color  Christopher Nolan                   813.0     164.0   \n",
       "4       NaN        Doug Walker                     NaN       NaN   \n",
       "...     ...                ...                     ...       ...   \n",
       "5038  Color        Scott Smith                     1.0      87.0   \n",
       "5039  Color                NaN                    43.0      43.0   \n",
       "5040  Color   Benjamin Roberds                    13.0      76.0   \n",
       "5041  Color        Daniel Hsia                    14.0     100.0   \n",
       "5042  Color           Jon Gunn                    43.0      90.0   \n",
       "\n",
       "      director_facebook_likes  actor_3_facebook_likes      actor_2_name  \\\n",
       "0                         0.0                   855.0  Joel David Moore   \n",
       "1                       563.0                  1000.0     Orlando Bloom   \n",
       "2                         0.0                   161.0      Rory Kinnear   \n",
       "3                     22000.0                 23000.0    Christian Bale   \n",
       "4                       131.0                     NaN        Rob Walker   \n",
       "...                       ...                     ...               ...   \n",
       "5038                      2.0                   318.0     Daphne Zuniga   \n",
       "5039                      NaN                   319.0     Valorie Curry   \n",
       "5040                      0.0                     0.0     Maxwell Moody   \n",
       "5041                      0.0                   489.0     Daniel Henney   \n",
       "5042                     16.0                    16.0  Brian Herzlinger   \n",
       "\n",
       "      actor_1_facebook_likes        gross                           genres  \\\n",
       "0                     1000.0  760505847.0  Action|Adventure|Fantasy|Sci-Fi   \n",
       "1                    40000.0  309404152.0         Action|Adventure|Fantasy   \n",
       "2                    11000.0  200074175.0        Action|Adventure|Thriller   \n",
       "3                    27000.0  448130642.0                  Action|Thriller   \n",
       "4                      131.0          NaN                      Documentary   \n",
       "...                      ...          ...                              ...   \n",
       "5038                   637.0          NaN                     Comedy|Drama   \n",
       "5039                   841.0          NaN     Crime|Drama|Mystery|Thriller   \n",
       "5040                     0.0          NaN            Drama|Horror|Thriller   \n",
       "5041                   946.0      10443.0             Comedy|Drama|Romance   \n",
       "5042                    86.0      85222.0                      Documentary   \n",
       "\n",
       "         actor_1_name                                        movie_title  \\\n",
       "0         CCH Pounder                                            Avatar    \n",
       "1         Johnny Depp          Pirates of the Caribbean: At World's End    \n",
       "2     Christoph Waltz                                           Spectre    \n",
       "3           Tom Hardy                             The Dark Knight Rises    \n",
       "4         Doug Walker  Star Wars: Episode VII - The Force Awakens    ...   \n",
       "...               ...                                                ...   \n",
       "5038      Eric Mabius                           Signed Sealed Delivered    \n",
       "5039      Natalie Zea                         The Following                \n",
       "5040      Eva Boehnke                              A Plague So Pleasant    \n",
       "5041        Alan Ruck                                  Shanghai Calling    \n",
       "5042      John August                                 My Date with Drew    \n",
       "\n",
       "      num_voted_users  cast_total_facebook_likes          actor_3_name  \\\n",
       "0              886204                       4834             Wes Studi   \n",
       "1              471220                      48350        Jack Davenport   \n",
       "2              275868                      11700      Stephanie Sigman   \n",
       "3             1144337                     106759  Joseph Gordon-Levitt   \n",
       "4                   8                        143                   NaN   \n",
       "...               ...                        ...                   ...   \n",
       "5038              629                       2283          Crystal Lowe   \n",
       "5039            73839                       1753         Sam Underwood   \n",
       "5040               38                          0        David Chandler   \n",
       "5041             1255                       2386           Eliza Coupe   \n",
       "5042             4285                        163              Jon Gunn   \n",
       "\n",
       "      facenumber_in_poster                                      plot_keywords  \\\n",
       "0                      0.0             avatar|future|marine|native|paraplegic   \n",
       "1                      0.0  goddess|marriage ceremony|marriage proposal|pi...   \n",
       "2                      1.0                bomb|espionage|sequel|spy|terrorist   \n",
       "3                      0.0  deception|imprisonment|lawlessness|police offi...   \n",
       "4                      0.0                                                NaN   \n",
       "...                    ...                                                ...   \n",
       "5038                   2.0             fraud|postal worker|prison|theft|trial   \n",
       "5039                   1.0       cult|fbi|hideout|prison escape|serial killer   \n",
       "5040                   0.0                                                NaN   \n",
       "5041                   5.0                                                NaN   \n",
       "5042                   0.0  actress name in title|crush|date|four word tit...   \n",
       "\n",
       "                                        movie_imdb_link num_user_for_reviews  \\\n",
       "0     http://www.imdb.com/title/tt0499549/?ref_=fn_t...                 3054   \n",
       "1     http://www.imdb.com/title/tt0449088/?ref_=fn_t...                 1238   \n",
       "2     http://www.imdb.com/title/tt2379713/?ref_=fn_t...                  994   \n",
       "3     http://www.imdb.com/title/tt1345836/?ref_=fn_t...                 2701   \n",
       "4     http://www.imdb.com/title/tt5289954/?ref_=fn_t...                        \n",
       "...                                                 ...                  ...   \n",
       "5038  http://www.imdb.com/title/tt3000844/?ref_=fn_t...                    6   \n",
       "5039  http://www.imdb.com/title/tt2071645/?ref_=fn_t...                  359   \n",
       "5040  http://www.imdb.com/title/tt2107644/?ref_=fn_t...                    3   \n",
       "5041  http://www.imdb.com/title/tt2070597/?ref_=fn_t...                    9   \n",
       "5042  http://www.imdb.com/title/tt0378407/?ref_=fn_t...                   84   \n",
       "\n",
       "     language country content_rating       budget  title_year  \\\n",
       "0     English     USA          PG-13  237000000.0      2009.0   \n",
       "1     English     USA          PG-13  300000000.0      2007.0   \n",
       "2     English      UK          PG-13  245000000.0      2015.0   \n",
       "3     English     USA          PG-13  250000000.0      2012.0   \n",
       "4         NaN     NaN            NaN          NaN         NaN   \n",
       "...       ...     ...            ...          ...         ...   \n",
       "5038  English  Canada            NaN          NaN      2013.0   \n",
       "5039  English     USA          TV-14          NaN         NaN   \n",
       "5040  English     USA            NaN       1400.0      2013.0   \n",
       "5041  English     USA          PG-13          NaN      2012.0   \n",
       "5042  English     USA             PG       1100.0      2004.0   \n",
       "\n",
       "      actor_2_facebook_likes  imdb_score  aspect_ratio  movie_facebook_likes  \n",
       "0                      936.0         7.9          1.78                 33000  \n",
       "1                     5000.0         7.1          2.35                     0  \n",
       "2                      393.0         6.8          2.35                 85000  \n",
       "3                    23000.0         8.5          2.35                164000  \n",
       "4                       12.0         7.1           NaN                     0  \n",
       "...                      ...         ...           ...                   ...  \n",
       "5038                   470.0         7.7           NaN                    84  \n",
       "5039                   593.0         7.5         16.00                 32000  \n",
       "5040                     0.0         6.3           NaN                    16  \n",
       "5041                   719.0         6.3          2.35                   660  \n",
       "5042                    23.0         6.6          1.85                   456  \n",
       "\n",
       "[5043 rows x 28 columns]"
      ]
     },
     "execution_count": 3,
     "metadata": {},
     "output_type": "execute_result"
    }
   ],
   "source": [
    "data=pd.read_csv(\"IMDB_Movies.csv\")\n",
    "data"
   ]
  },
  {
   "cell_type": "code",
   "execution_count": 4,
   "id": "cc9ba205-4606-4553-8718-6a57eccb6915",
   "metadata": {},
   "outputs": [
    {
     "data": {
      "text/html": [
       "<div>\n",
       "<style scoped>\n",
       "    .dataframe tbody tr th:only-of-type {\n",
       "        vertical-align: middle;\n",
       "    }\n",
       "\n",
       "    .dataframe tbody tr th {\n",
       "        vertical-align: top;\n",
       "    }\n",
       "\n",
       "    .dataframe thead th {\n",
       "        text-align: right;\n",
       "    }\n",
       "</style>\n",
       "<table border=\"1\" class=\"dataframe\">\n",
       "  <thead>\n",
       "    <tr style=\"text-align: right;\">\n",
       "      <th></th>\n",
       "      <th>color</th>\n",
       "      <th>director_name</th>\n",
       "      <th>num_critic_for_reviews</th>\n",
       "      <th>duration</th>\n",
       "      <th>director_facebook_likes</th>\n",
       "      <th>actor_3_facebook_likes</th>\n",
       "      <th>actor_2_name</th>\n",
       "      <th>actor_1_facebook_likes</th>\n",
       "      <th>gross</th>\n",
       "      <th>genres</th>\n",
       "      <th>actor_1_name</th>\n",
       "      <th>movie_title</th>\n",
       "      <th>num_voted_users</th>\n",
       "      <th>cast_total_facebook_likes</th>\n",
       "      <th>actor_3_name</th>\n",
       "      <th>facenumber_in_poster</th>\n",
       "      <th>plot_keywords</th>\n",
       "      <th>movie_imdb_link</th>\n",
       "      <th>num_user_for_reviews</th>\n",
       "      <th>language</th>\n",
       "      <th>country</th>\n",
       "      <th>content_rating</th>\n",
       "      <th>budget</th>\n",
       "      <th>title_year</th>\n",
       "      <th>actor_2_facebook_likes</th>\n",
       "      <th>imdb_score</th>\n",
       "      <th>aspect_ratio</th>\n",
       "      <th>movie_facebook_likes</th>\n",
       "    </tr>\n",
       "  </thead>\n",
       "  <tbody>\n",
       "    <tr>\n",
       "      <th>0</th>\n",
       "      <td>Color</td>\n",
       "      <td>James Cameron</td>\n",
       "      <td>723.0</td>\n",
       "      <td>178.0</td>\n",
       "      <td>0.0</td>\n",
       "      <td>855.0</td>\n",
       "      <td>Joel David Moore</td>\n",
       "      <td>1000.0</td>\n",
       "      <td>760505847.0</td>\n",
       "      <td>Action|Adventure|Fantasy|Sci-Fi</td>\n",
       "      <td>CCH Pounder</td>\n",
       "      <td>Avatar</td>\n",
       "      <td>886204</td>\n",
       "      <td>4834</td>\n",
       "      <td>Wes Studi</td>\n",
       "      <td>0.0</td>\n",
       "      <td>avatar|future|marine|native|paraplegic</td>\n",
       "      <td>http://www.imdb.com/title/tt0499549/?ref_=fn_t...</td>\n",
       "      <td>3054</td>\n",
       "      <td>English</td>\n",
       "      <td>USA</td>\n",
       "      <td>PG-13</td>\n",
       "      <td>237000000.0</td>\n",
       "      <td>2009.0</td>\n",
       "      <td>936.0</td>\n",
       "      <td>7.9</td>\n",
       "      <td>1.78</td>\n",
       "      <td>33000</td>\n",
       "    </tr>\n",
       "    <tr>\n",
       "      <th>1</th>\n",
       "      <td>Color</td>\n",
       "      <td>Gore Verbinski</td>\n",
       "      <td>302.0</td>\n",
       "      <td>169.0</td>\n",
       "      <td>563.0</td>\n",
       "      <td>1000.0</td>\n",
       "      <td>Orlando Bloom</td>\n",
       "      <td>40000.0</td>\n",
       "      <td>309404152.0</td>\n",
       "      <td>Action|Adventure|Fantasy</td>\n",
       "      <td>Johnny Depp</td>\n",
       "      <td>Pirates of the Caribbean: At World's End</td>\n",
       "      <td>471220</td>\n",
       "      <td>48350</td>\n",
       "      <td>Jack Davenport</td>\n",
       "      <td>0.0</td>\n",
       "      <td>goddess|marriage ceremony|marriage proposal|pi...</td>\n",
       "      <td>http://www.imdb.com/title/tt0449088/?ref_=fn_t...</td>\n",
       "      <td>1238</td>\n",
       "      <td>English</td>\n",
       "      <td>USA</td>\n",
       "      <td>PG-13</td>\n",
       "      <td>300000000.0</td>\n",
       "      <td>2007.0</td>\n",
       "      <td>5000.0</td>\n",
       "      <td>7.1</td>\n",
       "      <td>2.35</td>\n",
       "      <td>0</td>\n",
       "    </tr>\n",
       "  </tbody>\n",
       "</table>\n",
       "</div>"
      ],
      "text/plain": [
       "   color   director_name  num_critic_for_reviews  duration  \\\n",
       "0  Color   James Cameron                   723.0     178.0   \n",
       "1  Color  Gore Verbinski                   302.0     169.0   \n",
       "\n",
       "   director_facebook_likes  actor_3_facebook_likes      actor_2_name  \\\n",
       "0                      0.0                   855.0  Joel David Moore   \n",
       "1                    563.0                  1000.0     Orlando Bloom   \n",
       "\n",
       "   actor_1_facebook_likes        gross                           genres  \\\n",
       "0                  1000.0  760505847.0  Action|Adventure|Fantasy|Sci-Fi   \n",
       "1                 40000.0  309404152.0         Action|Adventure|Fantasy   \n",
       "\n",
       "  actor_1_name                                movie_title  num_voted_users  \\\n",
       "0  CCH Pounder                                    Avatar            886204   \n",
       "1  Johnny Depp  Pirates of the Caribbean: At World's End            471220   \n",
       "\n",
       "   cast_total_facebook_likes    actor_3_name  facenumber_in_poster  \\\n",
       "0                       4834       Wes Studi                   0.0   \n",
       "1                      48350  Jack Davenport                   0.0   \n",
       "\n",
       "                                       plot_keywords  \\\n",
       "0             avatar|future|marine|native|paraplegic   \n",
       "1  goddess|marriage ceremony|marriage proposal|pi...   \n",
       "\n",
       "                                     movie_imdb_link num_user_for_reviews  \\\n",
       "0  http://www.imdb.com/title/tt0499549/?ref_=fn_t...                 3054   \n",
       "1  http://www.imdb.com/title/tt0449088/?ref_=fn_t...                 1238   \n",
       "\n",
       "  language country content_rating       budget  title_year  \\\n",
       "0  English     USA          PG-13  237000000.0      2009.0   \n",
       "1  English     USA          PG-13  300000000.0      2007.0   \n",
       "\n",
       "   actor_2_facebook_likes  imdb_score  aspect_ratio  movie_facebook_likes  \n",
       "0                   936.0         7.9          1.78                 33000  \n",
       "1                  5000.0         7.1          2.35                     0  "
      ]
     },
     "execution_count": 4,
     "metadata": {},
     "output_type": "execute_result"
    }
   ],
   "source": [
    "data.head(2)"
   ]
  },
  {
   "cell_type": "code",
   "execution_count": 5,
   "id": "24aa13eb-4e83-463e-ab83-558a7e7a7768",
   "metadata": {},
   "outputs": [
    {
     "data": {
      "text/plain": [
       "(5043, 28)"
      ]
     },
     "execution_count": 5,
     "metadata": {},
     "output_type": "execute_result"
    }
   ],
   "source": [
    "data.shape"
   ]
  },
  {
   "cell_type": "code",
   "execution_count": 6,
   "id": "937e94be-2457-4cab-aeb8-0aaebec7ad8b",
   "metadata": {},
   "outputs": [
    {
     "name": "stdout",
     "output_type": "stream",
     "text": [
      "<class 'pandas.core.frame.DataFrame'>\n",
      "RangeIndex: 5043 entries, 0 to 5042\n",
      "Data columns (total 28 columns):\n",
      " #   Column                     Non-Null Count  Dtype  \n",
      "---  ------                     --------------  -----  \n",
      " 0   color                      5024 non-null   object \n",
      " 1   director_name              4939 non-null   object \n",
      " 2   num_critic_for_reviews     4993 non-null   float64\n",
      " 3   duration                   5028 non-null   float64\n",
      " 4   director_facebook_likes    4939 non-null   float64\n",
      " 5   actor_3_facebook_likes     5020 non-null   float64\n",
      " 6   actor_2_name               5030 non-null   object \n",
      " 7   actor_1_facebook_likes     5036 non-null   float64\n",
      " 8   gross                      4159 non-null   float64\n",
      " 9   genres                     5043 non-null   object \n",
      " 10  actor_1_name               5036 non-null   object \n",
      " 11  movie_title                5043 non-null   object \n",
      " 12  num_voted_users            5043 non-null   int64  \n",
      " 13  cast_total_facebook_likes  5043 non-null   int64  \n",
      " 14  actor_3_name               5020 non-null   object \n",
      " 15  facenumber_in_poster       5030 non-null   float64\n",
      " 16  plot_keywords              4890 non-null   object \n",
      " 17  movie_imdb_link            5043 non-null   object \n",
      " 18  num_user_for_reviews       5023 non-null   object \n",
      " 19  language                   5029 non-null   object \n",
      " 20  country                    5038 non-null   object \n",
      " 21  content_rating             4740 non-null   object \n",
      " 22  budget                     4551 non-null   float64\n",
      " 23  title_year                 4935 non-null   float64\n",
      " 24  actor_2_facebook_likes     5030 non-null   float64\n",
      " 25  imdb_score                 5043 non-null   float64\n",
      " 26  aspect_ratio               4714 non-null   float64\n",
      " 27  movie_facebook_likes       5043 non-null   int64  \n",
      "dtypes: float64(12), int64(3), object(13)\n",
      "memory usage: 1.1+ MB\n"
     ]
    }
   ],
   "source": [
    "data.info()"
   ]
  },
  {
   "cell_type": "code",
   "execution_count": 7,
   "id": "8b75c67c-4ace-4e11-bd28-af3edc263443",
   "metadata": {},
   "outputs": [
    {
     "data": {
      "text/plain": [
       "gross                        884\n",
       "budget                       492\n",
       "aspect_ratio                 329\n",
       "content_rating               303\n",
       "plot_keywords                153\n",
       "title_year                   108\n",
       "director_name                104\n",
       "director_facebook_likes      104\n",
       "num_critic_for_reviews        50\n",
       "actor_3_name                  23\n",
       "actor_3_facebook_likes        23\n",
       "num_user_for_reviews          20\n",
       "color                         19\n",
       "duration                      15\n",
       "language                      14\n",
       "facenumber_in_poster          13\n",
       "actor_2_name                  13\n",
       "actor_2_facebook_likes        13\n",
       "actor_1_name                   7\n",
       "actor_1_facebook_likes         7\n",
       "country                        5\n",
       "cast_total_facebook_likes      0\n",
       "num_voted_users                0\n",
       "movie_title                    0\n",
       "movie_imdb_link                0\n",
       "genres                         0\n",
       "imdb_score                     0\n",
       "movie_facebook_likes           0\n",
       "dtype: int64"
      ]
     },
     "execution_count": 7,
     "metadata": {},
     "output_type": "execute_result"
    }
   ],
   "source": [
    "data.isnull().sum().sort_values(ascending=False)"
   ]
  },
  {
   "cell_type": "code",
   "execution_count": 8,
   "id": "833fa162-e144-49d7-83f5-2a492e2e350e",
   "metadata": {},
   "outputs": [
    {
     "data": {
      "text/html": [
       "<div>\n",
       "<style scoped>\n",
       "    .dataframe tbody tr th:only-of-type {\n",
       "        vertical-align: middle;\n",
       "    }\n",
       "\n",
       "    .dataframe tbody tr th {\n",
       "        vertical-align: top;\n",
       "    }\n",
       "\n",
       "    .dataframe thead th {\n",
       "        text-align: right;\n",
       "    }\n",
       "</style>\n",
       "<table border=\"1\" class=\"dataframe\">\n",
       "  <thead>\n",
       "    <tr style=\"text-align: right;\">\n",
       "      <th></th>\n",
       "      <th>percent_missing</th>\n",
       "    </tr>\n",
       "  </thead>\n",
       "  <tbody>\n",
       "    <tr>\n",
       "      <th>gross</th>\n",
       "      <td>17.529248</td>\n",
       "    </tr>\n",
       "    <tr>\n",
       "      <th>budget</th>\n",
       "      <td>9.756098</td>\n",
       "    </tr>\n",
       "    <tr>\n",
       "      <th>aspect_ratio</th>\n",
       "      <td>6.523895</td>\n",
       "    </tr>\n",
       "    <tr>\n",
       "      <th>content_rating</th>\n",
       "      <td>6.008328</td>\n",
       "    </tr>\n",
       "    <tr>\n",
       "      <th>plot_keywords</th>\n",
       "      <td>3.033908</td>\n",
       "    </tr>\n",
       "    <tr>\n",
       "      <th>title_year</th>\n",
       "      <td>2.141582</td>\n",
       "    </tr>\n",
       "    <tr>\n",
       "      <th>director_name</th>\n",
       "      <td>2.062265</td>\n",
       "    </tr>\n",
       "    <tr>\n",
       "      <th>director_facebook_likes</th>\n",
       "      <td>2.062265</td>\n",
       "    </tr>\n",
       "    <tr>\n",
       "      <th>num_critic_for_reviews</th>\n",
       "      <td>0.991473</td>\n",
       "    </tr>\n",
       "    <tr>\n",
       "      <th>actor_3_name</th>\n",
       "      <td>0.456078</td>\n",
       "    </tr>\n",
       "    <tr>\n",
       "      <th>actor_3_facebook_likes</th>\n",
       "      <td>0.456078</td>\n",
       "    </tr>\n",
       "    <tr>\n",
       "      <th>num_user_for_reviews</th>\n",
       "      <td>0.396589</td>\n",
       "    </tr>\n",
       "    <tr>\n",
       "      <th>color</th>\n",
       "      <td>0.376760</td>\n",
       "    </tr>\n",
       "    <tr>\n",
       "      <th>duration</th>\n",
       "      <td>0.297442</td>\n",
       "    </tr>\n",
       "    <tr>\n",
       "      <th>language</th>\n",
       "      <td>0.277613</td>\n",
       "    </tr>\n",
       "    <tr>\n",
       "      <th>facenumber_in_poster</th>\n",
       "      <td>0.257783</td>\n",
       "    </tr>\n",
       "    <tr>\n",
       "      <th>actor_2_name</th>\n",
       "      <td>0.257783</td>\n",
       "    </tr>\n",
       "    <tr>\n",
       "      <th>actor_2_facebook_likes</th>\n",
       "      <td>0.257783</td>\n",
       "    </tr>\n",
       "    <tr>\n",
       "      <th>actor_1_name</th>\n",
       "      <td>0.138806</td>\n",
       "    </tr>\n",
       "    <tr>\n",
       "      <th>actor_1_facebook_likes</th>\n",
       "      <td>0.138806</td>\n",
       "    </tr>\n",
       "    <tr>\n",
       "      <th>country</th>\n",
       "      <td>0.099147</td>\n",
       "    </tr>\n",
       "    <tr>\n",
       "      <th>cast_total_facebook_likes</th>\n",
       "      <td>0.000000</td>\n",
       "    </tr>\n",
       "    <tr>\n",
       "      <th>num_voted_users</th>\n",
       "      <td>0.000000</td>\n",
       "    </tr>\n",
       "    <tr>\n",
       "      <th>movie_title</th>\n",
       "      <td>0.000000</td>\n",
       "    </tr>\n",
       "    <tr>\n",
       "      <th>movie_imdb_link</th>\n",
       "      <td>0.000000</td>\n",
       "    </tr>\n",
       "    <tr>\n",
       "      <th>genres</th>\n",
       "      <td>0.000000</td>\n",
       "    </tr>\n",
       "    <tr>\n",
       "      <th>imdb_score</th>\n",
       "      <td>0.000000</td>\n",
       "    </tr>\n",
       "    <tr>\n",
       "      <th>movie_facebook_likes</th>\n",
       "      <td>0.000000</td>\n",
       "    </tr>\n",
       "  </tbody>\n",
       "</table>\n",
       "</div>"
      ],
      "text/plain": [
       "                           percent_missing\n",
       "gross                            17.529248\n",
       "budget                            9.756098\n",
       "aspect_ratio                      6.523895\n",
       "content_rating                    6.008328\n",
       "plot_keywords                     3.033908\n",
       "title_year                        2.141582\n",
       "director_name                     2.062265\n",
       "director_facebook_likes           2.062265\n",
       "num_critic_for_reviews            0.991473\n",
       "actor_3_name                      0.456078\n",
       "actor_3_facebook_likes            0.456078\n",
       "num_user_for_reviews              0.396589\n",
       "color                             0.376760\n",
       "duration                          0.297442\n",
       "language                          0.277613\n",
       "facenumber_in_poster              0.257783\n",
       "actor_2_name                      0.257783\n",
       "actor_2_facebook_likes            0.257783\n",
       "actor_1_name                      0.138806\n",
       "actor_1_facebook_likes            0.138806\n",
       "country                           0.099147\n",
       "cast_total_facebook_likes         0.000000\n",
       "num_voted_users                   0.000000\n",
       "movie_title                       0.000000\n",
       "movie_imdb_link                   0.000000\n",
       "genres                            0.000000\n",
       "imdb_score                        0.000000\n",
       "movie_facebook_likes              0.000000"
      ]
     },
     "execution_count": 8,
     "metadata": {},
     "output_type": "execute_result"
    }
   ],
   "source": [
    "percent_missing = data.isnull().sum() * 100 / len(data)\n",
    "missing_values = pd.DataFrame({'percent_missing': percent_missing})\n",
    "missing_values.sort_values(by ='percent_missing' , ascending=False)"
   ]
  },
  {
   "cell_type": "code",
   "execution_count": 9,
   "id": "122b948d-3f6f-4620-9f1f-d9cb76ee5844",
   "metadata": {},
   "outputs": [
    {
     "data": {
      "text/plain": [
       "Index(['color', 'director_name', 'num_critic_for_reviews', 'duration',\n",
       "       'director_facebook_likes', 'actor_3_facebook_likes', 'actor_2_name',\n",
       "       'actor_1_facebook_likes', 'gross', 'genres', 'actor_1_name',\n",
       "       'movie_title', 'num_voted_users', 'cast_total_facebook_likes',\n",
       "       'actor_3_name', 'facenumber_in_poster', 'plot_keywords',\n",
       "       'movie_imdb_link', 'num_user_for_reviews', 'language', 'country',\n",
       "       'content_rating', 'budget', 'title_year', 'actor_2_facebook_likes',\n",
       "       'imdb_score', 'aspect_ratio', 'movie_facebook_likes'],\n",
       "      dtype='object')"
      ]
     },
     "execution_count": 9,
     "metadata": {},
     "output_type": "execute_result"
    }
   ],
   "source": [
    "data.columns"
   ]
  },
  {
   "cell_type": "code",
   "execution_count": 10,
   "id": "a74ab4b4-38eb-4d87-8bd6-e61acc4c585f",
   "metadata": {},
   "outputs": [
    {
     "data": {
      "text/plain": [
       "color                         object\n",
       "director_name                 object\n",
       "num_critic_for_reviews       float64\n",
       "duration                     float64\n",
       "director_facebook_likes      float64\n",
       "actor_3_facebook_likes       float64\n",
       "actor_2_name                  object\n",
       "actor_1_facebook_likes       float64\n",
       "gross                        float64\n",
       "genres                        object\n",
       "actor_1_name                  object\n",
       "movie_title                   object\n",
       "num_voted_users                int64\n",
       "cast_total_facebook_likes      int64\n",
       "actor_3_name                  object\n",
       "facenumber_in_poster         float64\n",
       "plot_keywords                 object\n",
       "movie_imdb_link               object\n",
       "num_user_for_reviews          object\n",
       "language                      object\n",
       "country                       object\n",
       "content_rating                object\n",
       "budget                       float64\n",
       "title_year                   float64\n",
       "actor_2_facebook_likes       float64\n",
       "imdb_score                   float64\n",
       "aspect_ratio                 float64\n",
       "movie_facebook_likes           int64\n",
       "dtype: object"
      ]
     },
     "execution_count": 10,
     "metadata": {},
     "output_type": "execute_result"
    }
   ],
   "source": [
    "data.dtypes"
   ]
  },
  {
   "cell_type": "code",
   "execution_count": 11,
   "id": "3c2c4187-d424-44ae-9b16-f9946256fba9",
   "metadata": {
    "scrolled": true
   },
   "outputs": [],
   "source": [
    "data.drop(columns=[\"director_facebook_likes\",\"actor_3_facebook_likes\",\"actor_2_facebook_likes\",\"cast_total_facebook_likes\",\"actor_1_facebook_likes\",\"facenumber_in_poster\",\"movie_imdb_link\",\"movie_facebook_likes\"],inplace=True)"
   ]
  },
  {
   "cell_type": "markdown",
   "id": "886d5fe6-e60a-4d2b-b1ed-a3302fdfcf49",
   "metadata": {},
   "source": [
    "COLOR"
   ]
  },
  {
   "cell_type": "code",
   "execution_count": 12,
   "id": "e29aef21-a339-4dee-b7f6-acdd9f595110",
   "metadata": {},
   "outputs": [
    {
     "data": {
      "text/plain": [
       "color\n",
       "Color               4815\n",
       " Black and White     209\n",
       "Name: count, dtype: int64"
      ]
     },
     "execution_count": 12,
     "metadata": {},
     "output_type": "execute_result"
    }
   ],
   "source": [
    "data.color.value_counts()"
   ]
  },
  {
   "cell_type": "code",
   "execution_count": 13,
   "id": "4c50bc5c-c501-49e2-9894-9703edf8394d",
   "metadata": {},
   "outputs": [],
   "source": [
    "data[\"color\"].fillna(data[\"color\"].mode()[0],inplace=True)"
   ]
  },
  {
   "cell_type": "code",
   "execution_count": 14,
   "id": "91ee18ef-97df-48e7-885d-c92e2fcfff69",
   "metadata": {},
   "outputs": [
    {
     "data": {
      "text/plain": [
       "0"
      ]
     },
     "execution_count": 14,
     "metadata": {},
     "output_type": "execute_result"
    }
   ],
   "source": [
    "data.color.isnull().sum()"
   ]
  },
  {
   "cell_type": "markdown",
   "id": "d9f57d40-75fb-4f89-a6c2-5827906543df",
   "metadata": {},
   "source": [
    "DIRECTOR NAME"
   ]
  },
  {
   "cell_type": "code",
   "execution_count": 15,
   "id": "7fb08a12-644c-4920-acde-d27c79b11c0e",
   "metadata": {},
   "outputs": [
    {
     "data": {
      "text/plain": [
       "director_name\n",
       "Steven Spielberg    26\n",
       "Woody Allen         22\n",
       "Clint Eastwood      20\n",
       "Martin Scorsese     20\n",
       "Ridley Scott        17\n",
       "                    ..\n",
       "John Crowley         1\n",
       "Rob Pritts           1\n",
       "David S. Ward        1\n",
       "R.J. Cutler          1\n",
       "Daniel Hsia          1\n",
       "Name: count, Length: 2398, dtype: int64"
      ]
     },
     "execution_count": 15,
     "metadata": {},
     "output_type": "execute_result"
    }
   ],
   "source": [
    "data.director_name.value_counts()"
   ]
  },
  {
   "cell_type": "code",
   "execution_count": 16,
   "id": "c384a93c-49a1-4742-947c-8c29b51aa778",
   "metadata": {},
   "outputs": [
    {
     "data": {
      "text/plain": [
       "104"
      ]
     },
     "execution_count": 16,
     "metadata": {},
     "output_type": "execute_result"
    }
   ],
   "source": [
    "data.director_name.isnull().sum()"
   ]
  },
  {
   "cell_type": "code",
   "execution_count": 17,
   "id": "fefd5624-44b4-4033-8860-35c892f4eca7",
   "metadata": {},
   "outputs": [],
   "source": [
    "data[\"director_name\"].fillna(\"Unknown_Name\",inplace=True)"
   ]
  },
  {
   "cell_type": "code",
   "execution_count": 18,
   "id": "40c89684-7a17-4972-a1e8-2acc6e6d3121",
   "metadata": {},
   "outputs": [
    {
     "data": {
      "text/plain": [
       "5043"
      ]
     },
     "execution_count": 18,
     "metadata": {},
     "output_type": "execute_result"
    }
   ],
   "source": [
    "data.director_name.value_counts().sum()"
   ]
  },
  {
   "cell_type": "markdown",
   "id": "9c21ae91-8635-465b-a7da-68a99dd1f640",
   "metadata": {},
   "source": [
    "Num_Critic_For_Reviews"
   ]
  },
  {
   "cell_type": "code",
   "execution_count": 19,
   "id": "8a64daee-253d-4c81-9ec7-b8416092334d",
   "metadata": {},
   "outputs": [
    {
     "data": {
      "text/plain": [
       "num_critic_for_reviews\n",
       "1.0      43\n",
       "9.0      37\n",
       "5.0      36\n",
       "10.0     35\n",
       "8.0      35\n",
       "         ..\n",
       "738.0     1\n",
       "476.0     1\n",
       "775.0     1\n",
       "552.0     1\n",
       "409.0     1\n",
       "Name: count, Length: 528, dtype: int64"
      ]
     },
     "execution_count": 19,
     "metadata": {},
     "output_type": "execute_result"
    }
   ],
   "source": [
    "data.num_critic_for_reviews.value_counts()"
   ]
  },
  {
   "cell_type": "code",
   "execution_count": 20,
   "id": "4de27e37-5deb-45cc-8798-a039e9ff5707",
   "metadata": {},
   "outputs": [
    {
     "data": {
      "text/plain": [
       "50"
      ]
     },
     "execution_count": 20,
     "metadata": {},
     "output_type": "execute_result"
    }
   ],
   "source": [
    "data.num_critic_for_reviews.isnull().sum()"
   ]
  },
  {
   "cell_type": "code",
   "execution_count": 21,
   "id": "1b22fe4f-31f0-48c6-ba63-396d6e709ec0",
   "metadata": {},
   "outputs": [],
   "source": [
    "# data.num_critic_for_reviews.mean()\n",
    "# data.num_critic_for_reviews.median()"
   ]
  },
  {
   "cell_type": "code",
   "execution_count": 22,
   "id": "114bfdc3-4084-48e8-9043-bc3ffc087536",
   "metadata": {},
   "outputs": [],
   "source": [
    "data[\"num_critic_for_reviews\"].fillna(data[\"num_critic_for_reviews\"].mean(), inplace=True)"
   ]
  },
  {
   "cell_type": "code",
   "execution_count": 23,
   "id": "d4505edd-a42d-446a-983b-30e471e40803",
   "metadata": {},
   "outputs": [
    {
     "data": {
      "text/plain": [
       "0"
      ]
     },
     "execution_count": 23,
     "metadata": {},
     "output_type": "execute_result"
    }
   ],
   "source": [
    "data[\"num_critic_for_reviews\"].isnull().sum()"
   ]
  },
  {
   "cell_type": "code",
   "execution_count": 24,
   "id": "e17e5ff0-b5ab-49d6-b2a7-72796f94e402",
   "metadata": {},
   "outputs": [
    {
     "data": {
      "text/plain": [
       "count    5043.000000\n",
       "mean      140.194272\n",
       "std       120.997229\n",
       "min         1.000000\n",
       "25%        50.000000\n",
       "50%       111.000000\n",
       "75%       194.000000\n",
       "max       813.000000\n",
       "Name: num_critic_for_reviews, dtype: float64"
      ]
     },
     "execution_count": 24,
     "metadata": {},
     "output_type": "execute_result"
    }
   ],
   "source": [
    "data[\"num_critic_for_reviews\"].describe()"
   ]
  },
  {
   "cell_type": "markdown",
   "id": "1eb659cf-950f-4689-8d54-9780fc45b5de",
   "metadata": {},
   "source": [
    "DURATION"
   ]
  },
  {
   "cell_type": "code",
   "execution_count": 25,
   "id": "48e39234-349d-4ed0-8eca-69d1b0788fb5",
   "metadata": {},
   "outputs": [
    {
     "data": {
      "text/plain": [
       "duration\n",
       "90.0     161\n",
       "100.0    141\n",
       "101.0    139\n",
       "98.0     135\n",
       "97.0     131\n",
       "        ... \n",
       "236.0      1\n",
       "334.0      1\n",
       "270.0      1\n",
       "227.0      1\n",
       "47.0       1\n",
       "Name: count, Length: 191, dtype: int64"
      ]
     },
     "execution_count": 25,
     "metadata": {},
     "output_type": "execute_result"
    }
   ],
   "source": [
    "data.duration.value_counts()"
   ]
  },
  {
   "cell_type": "code",
   "execution_count": 26,
   "id": "4b8d2a1e-ca7f-4999-aa9c-0e08b5498d86",
   "metadata": {},
   "outputs": [
    {
     "data": {
      "text/plain": [
       "count    5028.000000\n",
       "mean      107.201074\n",
       "std        25.197441\n",
       "min         7.000000\n",
       "25%        93.000000\n",
       "50%       103.000000\n",
       "75%       118.000000\n",
       "max       511.000000\n",
       "Name: duration, dtype: float64"
      ]
     },
     "execution_count": 26,
     "metadata": {},
     "output_type": "execute_result"
    }
   ],
   "source": [
    "data[\"duration\"].describe()"
   ]
  },
  {
   "cell_type": "code",
   "execution_count": 27,
   "id": "764b8293-8d97-43f2-a758-0cf44415625b",
   "metadata": {},
   "outputs": [
    {
     "data": {
      "text/plain": [
       "15"
      ]
     },
     "execution_count": 27,
     "metadata": {},
     "output_type": "execute_result"
    }
   ],
   "source": [
    "data.duration.isnull().sum()"
   ]
  },
  {
   "cell_type": "code",
   "execution_count": 28,
   "id": "d5ad9874-779d-4bb2-ba67-252b441e9e8b",
   "metadata": {},
   "outputs": [],
   "source": [
    "data[\"duration\"].fillna(data[\"duration\"].mean(),inplace=True)"
   ]
  },
  {
   "cell_type": "markdown",
   "id": "794d8d4e-863d-4373-ac8b-4ddf75410443",
   "metadata": {},
   "source": [
    "GROSS"
   ]
  },
  {
   "cell_type": "code",
   "execution_count": 29,
   "id": "d4fa6673-f2ca-46a9-87f7-0b793c60736b",
   "metadata": {},
   "outputs": [
    {
     "data": {
      "text/plain": [
       "760505847.0"
      ]
     },
     "execution_count": 29,
     "metadata": {},
     "output_type": "execute_result"
    }
   ],
   "source": [
    "data[\"gross\"].values[0]"
   ]
  },
  {
   "cell_type": "code",
   "execution_count": 30,
   "id": "311a9a5f-619e-4bab-a241-28a2c3409805",
   "metadata": {},
   "outputs": [
    {
     "data": {
      "text/plain": [
       "count    4.159000e+03\n",
       "mean     4.846841e+07\n",
       "std      6.845299e+07\n",
       "min      1.620000e+02\n",
       "25%      5.340988e+06\n",
       "50%      2.551750e+07\n",
       "75%      6.230944e+07\n",
       "max      7.605058e+08\n",
       "Name: gross, dtype: float64"
      ]
     },
     "execution_count": 30,
     "metadata": {},
     "output_type": "execute_result"
    }
   ],
   "source": [
    "data.gross.describe()"
   ]
  },
  {
   "cell_type": "code",
   "execution_count": 31,
   "id": "be8e21bc-9962-4489-be3e-2e3ebac4c042",
   "metadata": {},
   "outputs": [
    {
     "data": {
      "text/plain": [
       "884"
      ]
     },
     "execution_count": 31,
     "metadata": {},
     "output_type": "execute_result"
    }
   ],
   "source": [
    "data.gross.isnull().sum()"
   ]
  },
  {
   "cell_type": "code",
   "execution_count": 32,
   "id": "1369b59a-0b8a-4a72-a9e9-fadbab711300",
   "metadata": {},
   "outputs": [],
   "source": [
    "data[\"gross\"].fillna(data[\"gross\"].mean(), inplace=True)"
   ]
  },
  {
   "cell_type": "markdown",
   "id": "edf42d22-0288-4155-8ba9-ec6b18a232da",
   "metadata": {},
   "source": [
    "GENRES"
   ]
  },
  {
   "cell_type": "code",
   "execution_count": 33,
   "id": "0dfa1dc4-bb06-466f-885b-9b178bee9968",
   "metadata": {},
   "outputs": [
    {
     "data": {
      "text/plain": [
       "genres\n",
       "Drama                                         236\n",
       "Comedy                                        209\n",
       "Comedy|Drama                                  191\n",
       "Comedy|Drama|Romance                          187\n",
       "Comedy|Romance                                158\n",
       "                                             ... \n",
       "Crime|Drama|Mystery|Sci-Fi|Thriller             1\n",
       "Adventure|Comedy|Crime|Drama                    1\n",
       "Action|Crime|Drama|Mystery|Sci-Fi|Thriller      1\n",
       "Action|Drama|Fantasy|Horror|Thriller            1\n",
       "Comedy|Crime|Horror                             1\n",
       "Name: count, Length: 914, dtype: int64"
      ]
     },
     "execution_count": 33,
     "metadata": {},
     "output_type": "execute_result"
    }
   ],
   "source": [
    "data.genres.value_counts()"
   ]
  },
  {
   "cell_type": "code",
   "execution_count": 34,
   "id": "97932ae6-c03f-458e-bb94-dd574f47ca19",
   "metadata": {},
   "outputs": [
    {
     "data": {
      "text/plain": [
       "movie_title\n",
       "Ben-Hur                 3\n",
       "Home                    3\n",
       "Pan                     3\n",
       "King Kong               3\n",
       "Halloween               3\n",
       "                       ..\n",
       "Splice                  1\n",
       "The Whole Ten Yards     1\n",
       "North Country           1\n",
       "88 Minutes              1\n",
       "My Date with Drew       1\n",
       "Name: count, Length: 4917, dtype: int64"
      ]
     },
     "execution_count": 34,
     "metadata": {},
     "output_type": "execute_result"
    }
   ],
   "source": [
    "data.movie_title.value_counts()"
   ]
  },
  {
   "cell_type": "code",
   "execution_count": 35,
   "id": "21404fc8-c39d-433c-8cac-4140f5e3a317",
   "metadata": {},
   "outputs": [
    {
     "data": {
      "text/plain": [
       "0"
      ]
     },
     "execution_count": 35,
     "metadata": {},
     "output_type": "execute_result"
    }
   ],
   "source": [
    "data.movie_title.isnull().sum()"
   ]
  },
  {
   "cell_type": "markdown",
   "id": "b1fdc18a-6371-4c94-8f23-c9481260db30",
   "metadata": {},
   "source": [
    "ACTORS"
   ]
  },
  {
   "cell_type": "code",
   "execution_count": 36,
   "id": "bf63a58a-79b9-4fdd-8f81-61b57f4ad75c",
   "metadata": {},
   "outputs": [
    {
     "data": {
      "text/plain": [
       "0       Joel David Moore\n",
       "1          Orlando Bloom\n",
       "2           Rory Kinnear\n",
       "3         Christian Bale\n",
       "4             Rob Walker\n",
       "              ...       \n",
       "5038       Daphne Zuniga\n",
       "5039       Valorie Curry\n",
       "5040       Maxwell Moody\n",
       "5041       Daniel Henney\n",
       "5042    Brian Herzlinger\n",
       "Name: actor_2_name, Length: 5043, dtype: object"
      ]
     },
     "execution_count": 36,
     "metadata": {},
     "output_type": "execute_result"
    }
   ],
   "source": [
    "data[\"actor_2_name\"]"
   ]
  },
  {
   "cell_type": "code",
   "execution_count": 37,
   "id": "7469daff-15f5-4c40-a41f-092c5c46e7b0",
   "metadata": {},
   "outputs": [
    {
     "data": {
      "text/plain": [
       "13"
      ]
     },
     "execution_count": 37,
     "metadata": {},
     "output_type": "execute_result"
    }
   ],
   "source": [
    "data[\"actor_2_name\"].isnull().sum()"
   ]
  },
  {
   "cell_type": "code",
   "execution_count": 38,
   "id": "3476534c-3c18-4868-bf10-cc086d50be2d",
   "metadata": {},
   "outputs": [],
   "source": [
    "data[\"actor_2_name\"].fillna(\"Unknown\",inplace=True)"
   ]
  },
  {
   "cell_type": "code",
   "execution_count": 39,
   "id": "b0982c75-772b-4f2a-aaea-2273aed55357",
   "metadata": {},
   "outputs": [
    {
     "data": {
      "text/plain": [
       "0           CCH Pounder\n",
       "1           Johnny Depp\n",
       "2       Christoph Waltz\n",
       "3             Tom Hardy\n",
       "4           Doug Walker\n",
       "             ...       \n",
       "5038        Eric Mabius\n",
       "5039        Natalie Zea\n",
       "5040        Eva Boehnke\n",
       "5041          Alan Ruck\n",
       "5042        John August\n",
       "Name: actor_1_name, Length: 5043, dtype: object"
      ]
     },
     "execution_count": 39,
     "metadata": {},
     "output_type": "execute_result"
    }
   ],
   "source": [
    "data[\"actor_1_name\"]"
   ]
  },
  {
   "cell_type": "code",
   "execution_count": 40,
   "id": "a96aecb8-5d57-4e86-9e72-e3511dba7e93",
   "metadata": {},
   "outputs": [
    {
     "data": {
      "text/plain": [
       "7"
      ]
     },
     "execution_count": 40,
     "metadata": {},
     "output_type": "execute_result"
    }
   ],
   "source": [
    "data[\"actor_1_name\"].isnull().sum()"
   ]
  },
  {
   "cell_type": "code",
   "execution_count": 41,
   "id": "3a1dfcc4-01cc-4181-a435-4e848fabb1de",
   "metadata": {},
   "outputs": [],
   "source": [
    "data[\"actor_1_name\"].fillna(\"Unknown\", inplace=True)"
   ]
  },
  {
   "cell_type": "code",
   "execution_count": 42,
   "id": "521314f2-5728-44d1-bfac-47d05d352ef4",
   "metadata": {},
   "outputs": [
    {
     "data": {
      "text/plain": [
       "actor_3_name\n",
       "John Heard        8\n",
       "Steve Coogan      8\n",
       "Ben Mendelsohn    8\n",
       "Anne Hathaway     7\n",
       "Robert Duvall     7\n",
       "                 ..\n",
       "Jay Mohr          1\n",
       "Mike White        1\n",
       "Ski Carr          1\n",
       "Melissa Ordway    1\n",
       "Jon Gunn          1\n",
       "Name: count, Length: 3521, dtype: int64"
      ]
     },
     "execution_count": 42,
     "metadata": {},
     "output_type": "execute_result"
    }
   ],
   "source": [
    "data[\"actor_3_name\"].value_counts()"
   ]
  },
  {
   "cell_type": "code",
   "execution_count": 43,
   "id": "55c118e6-28ca-487a-a3f6-3eea3ef736b9",
   "metadata": {},
   "outputs": [
    {
     "data": {
      "text/plain": [
       "23"
      ]
     },
     "execution_count": 43,
     "metadata": {},
     "output_type": "execute_result"
    }
   ],
   "source": [
    "data[\"actor_3_name\"].isnull().sum()"
   ]
  },
  {
   "cell_type": "code",
   "execution_count": 44,
   "id": "94cb67e9-64b8-4a87-85e8-e3eb7fa848c5",
   "metadata": {},
   "outputs": [],
   "source": [
    "data[\"actor_3_name\"].fillna(\"Unknown\", inplace=True)"
   ]
  },
  {
   "cell_type": "markdown",
   "id": "2783955c-6935-4db5-af3d-bb2126a5b399",
   "metadata": {},
   "source": [
    "NUMBER OF VOTED USERS"
   ]
  },
  {
   "cell_type": "code",
   "execution_count": 45,
   "id": "d12632a1-c237-46cc-9a17-15a7c7f738f7",
   "metadata": {},
   "outputs": [
    {
     "data": {
      "text/plain": [
       "0        886204\n",
       "1        471220\n",
       "2        275868\n",
       "3       1144337\n",
       "4             8\n",
       "         ...   \n",
       "5038        629\n",
       "5039      73839\n",
       "5040         38\n",
       "5041       1255\n",
       "5042       4285\n",
       "Name: num_voted_users, Length: 5043, dtype: int64"
      ]
     },
     "execution_count": 45,
     "metadata": {},
     "output_type": "execute_result"
    }
   ],
   "source": [
    "data[\"num_voted_users\"]"
   ]
  },
  {
   "cell_type": "code",
   "execution_count": 46,
   "id": "d44fa8b4-560f-4d81-aa2d-3b702aa9105a",
   "metadata": {},
   "outputs": [
    {
     "data": {
      "text/plain": [
       "0"
      ]
     },
     "execution_count": 46,
     "metadata": {},
     "output_type": "execute_result"
    }
   ],
   "source": [
    "data[\"num_voted_users\"].isnull().sum()"
   ]
  },
  {
   "cell_type": "code",
   "execution_count": 47,
   "id": "340a240f-ee5a-414f-8739-d75b01eeec66",
   "metadata": {},
   "outputs": [
    {
     "data": {
      "text/plain": [
       "count    5.043000e+03\n",
       "mean     8.366816e+04\n",
       "std      1.384853e+05\n",
       "min      5.000000e+00\n",
       "25%      8.593500e+03\n",
       "50%      3.435900e+04\n",
       "75%      9.630900e+04\n",
       "max      1.689764e+06\n",
       "Name: num_voted_users, dtype: float64"
      ]
     },
     "execution_count": 47,
     "metadata": {},
     "output_type": "execute_result"
    }
   ],
   "source": [
    "data.num_voted_users.describe()"
   ]
  },
  {
   "cell_type": "markdown",
   "id": "8919e25a-5fa0-45f8-a884-7e7c0855f05a",
   "metadata": {},
   "source": [
    "PLOTKEYWORDS"
   ]
  },
  {
   "cell_type": "code",
   "execution_count": 48,
   "id": "53f3957f-7ebc-44c4-8c83-4991c70922f9",
   "metadata": {},
   "outputs": [
    {
     "data": {
      "text/plain": [
       "0                  avatar|future|marine|native|paraplegic\n",
       "1       goddess|marriage ceremony|marriage proposal|pi...\n",
       "2                     bomb|espionage|sequel|spy|terrorist\n",
       "3       deception|imprisonment|lawlessness|police offi...\n",
       "4                                                     NaN\n",
       "                              ...                        \n",
       "5038               fraud|postal worker|prison|theft|trial\n",
       "5039         cult|fbi|hideout|prison escape|serial killer\n",
       "5040                                                  NaN\n",
       "5041                                                  NaN\n",
       "5042    actress name in title|crush|date|four word tit...\n",
       "Name: plot_keywords, Length: 5043, dtype: object"
      ]
     },
     "execution_count": 48,
     "metadata": {},
     "output_type": "execute_result"
    }
   ],
   "source": [
    "data[\"plot_keywords\"]"
   ]
  },
  {
   "cell_type": "code",
   "execution_count": 49,
   "id": "e2e89911-17ec-455e-a213-8c47af1cffb7",
   "metadata": {},
   "outputs": [
    {
     "data": {
      "text/plain": [
       "153"
      ]
     },
     "execution_count": 49,
     "metadata": {},
     "output_type": "execute_result"
    }
   ],
   "source": [
    "data[\"plot_keywords\"].isnull().sum()"
   ]
  },
  {
   "cell_type": "code",
   "execution_count": 50,
   "id": "52087dcb-a5fd-40c7-975a-5de9a39f226c",
   "metadata": {},
   "outputs": [],
   "source": [
    "data.dropna(subset =\"plot_keywords\", inplace=True)"
   ]
  },
  {
   "cell_type": "markdown",
   "id": "329b89ba-0027-4841-b7dd-438a04153c5a",
   "metadata": {},
   "source": [
    "Num_User_For_Reviews"
   ]
  },
  {
   "cell_type": "code",
   "execution_count": 51,
   "id": "259169c0-fe86-453c-b50e-c9a1220017e8",
   "metadata": {},
   "outputs": [
    {
     "data": {
      "text/plain": [
       "0     3054\n",
       "1     1238\n",
       "2      994\n",
       "3     2701\n",
       "5      738\n",
       "6     1902\n",
       "7      387\n",
       "8     1117\n",
       "9      973\n",
       "10    3018\n",
       "11    2367\n",
       "12    1243\n",
       "13    1832\n",
       "14     711\n",
       "15    2536\n",
       "16     438\n",
       "17    1722\n",
       "18     484\n",
       "19     341\n",
       "20     802\n",
       "Name: num_user_for_reviews, dtype: object"
      ]
     },
     "execution_count": 51,
     "metadata": {},
     "output_type": "execute_result"
    }
   ],
   "source": [
    "data[\"num_user_for_reviews\"].head(20)"
   ]
  },
  {
   "cell_type": "code",
   "execution_count": 52,
   "id": "70c9a318-de37-4256-af93-9491e565cea1",
   "metadata": {},
   "outputs": [
    {
     "data": {
      "text/plain": [
       "7"
      ]
     },
     "execution_count": 52,
     "metadata": {},
     "output_type": "execute_result"
    }
   ],
   "source": [
    "data[\"num_user_for_reviews\"].isnull().sum()"
   ]
  },
  {
   "cell_type": "code",
   "execution_count": 53,
   "id": "71928061-e8a1-4165-911c-f20ac38cc23a",
   "metadata": {},
   "outputs": [],
   "source": [
    "data.dropna(subset=\"num_user_for_reviews\", inplace=True)"
   ]
  },
  {
   "cell_type": "code",
   "execution_count": 54,
   "id": "918a1c6e-ed40-4ec9-9e3c-70ef90b300ef",
   "metadata": {},
   "outputs": [],
   "source": [
    "data[\"num_user_for_reviews\"]=data[\"num_user_for_reviews\"].astype(int)"
   ]
  },
  {
   "cell_type": "code",
   "execution_count": 55,
   "id": "e2ec2c15-d712-4c39-a023-6312f8c1b5d3",
   "metadata": {},
   "outputs": [
    {
     "data": {
      "text/plain": [
       "count    4883.000000\n",
       "mean      280.221585\n",
       "std       380.690849\n",
       "min         1.000000\n",
       "25%        71.000000\n",
       "50%       162.000000\n",
       "75%       335.000000\n",
       "max      5060.000000\n",
       "Name: num_user_for_reviews, dtype: float64"
      ]
     },
     "execution_count": 55,
     "metadata": {},
     "output_type": "execute_result"
    }
   ],
   "source": [
    "data[\"num_user_for_reviews\"].describe()"
   ]
  },
  {
   "cell_type": "markdown",
   "id": "236725c9-e930-4adb-8c78-daed75b445a8",
   "metadata": {},
   "source": [
    "Language"
   ]
  },
  {
   "cell_type": "code",
   "execution_count": 56,
   "id": "3aa39b71-11ab-4ad6-91c3-24b661418196",
   "metadata": {},
   "outputs": [
    {
     "data": {
      "text/plain": [
       "0       English\n",
       "1       English\n",
       "2       English\n",
       "3       English\n",
       "5       English\n",
       "         ...   \n",
       "5036    English\n",
       "5037    English\n",
       "5038    English\n",
       "5039    English\n",
       "5042    English\n",
       "Name: language, Length: 4883, dtype: object"
      ]
     },
     "execution_count": 56,
     "metadata": {},
     "output_type": "execute_result"
    }
   ],
   "source": [
    "data.language"
   ]
  },
  {
   "cell_type": "code",
   "execution_count": 57,
   "id": "0feb3872-e4eb-44ed-999d-198aeb8334d5",
   "metadata": {},
   "outputs": [
    {
     "data": {
      "text/plain": [
       "array(['English', 'Japanese', 'French', 'Mandarin', 'Aboriginal',\n",
       "       'Spanish', 'Filipino', 'Hindi', 'Russian', 'Maya', 'Kazakh',\n",
       "       'Telugu', 'Cantonese', 'Icelandic', 'German', 'Aramaic', 'Italian',\n",
       "       'Dutch', 'Dari', 'Hebrew', 'Mongolian', nan, 'Swedish', 'Korean',\n",
       "       'Thai', 'Polish', 'Bosnian', 'Hungarian', 'Portuguese', 'Danish',\n",
       "       'Arabic', 'Norwegian', 'Czech', 'Zulu', 'Dzongkha', 'Vietnamese',\n",
       "       'Indonesian', 'Urdu', 'Romanian', 'Persian', 'Greek'], dtype=object)"
      ]
     },
     "execution_count": 57,
     "metadata": {},
     "output_type": "execute_result"
    }
   ],
   "source": [
    "data[\"language\"].unique()"
   ]
  },
  {
   "cell_type": "code",
   "execution_count": 58,
   "id": "527545bb-de78-459b-9fdc-57145301619b",
   "metadata": {},
   "outputs": [
    {
     "data": {
      "text/plain": [
       "language\n",
       "English       4575\n",
       "French          70\n",
       "Spanish         35\n",
       "Mandarin        26\n",
       "Hindi           26\n",
       "Japanese        18\n",
       "German          18\n",
       "Russian         11\n",
       "Italian         10\n",
       "Cantonese       10\n",
       "Portuguese       8\n",
       "Korean           8\n",
       "Danish           5\n",
       "Swedish          4\n",
       "Hebrew           4\n",
       "Dutch            4\n",
       "Norwegian        4\n",
       "Persian          4\n",
       "Thai             3\n",
       "Polish           3\n",
       "Arabic           3\n",
       "Dari             2\n",
       "Icelandic        2\n",
       "Indonesian       2\n",
       "Zulu             2\n",
       "Aboriginal       2\n",
       "Czech            1\n",
       "Urdu             1\n",
       "Romanian         1\n",
       "Dzongkha         1\n",
       "Vietnamese       1\n",
       "Mongolian        1\n",
       "Hungarian        1\n",
       "Bosnian          1\n",
       "Aramaic          1\n",
       "Telugu           1\n",
       "Kazakh           1\n",
       "Maya             1\n",
       "Filipino         1\n",
       "Greek            1\n",
       "Name: count, dtype: int64"
      ]
     },
     "execution_count": 58,
     "metadata": {},
     "output_type": "execute_result"
    }
   ],
   "source": [
    "data[\"language\"].value_counts()"
   ]
  },
  {
   "cell_type": "code",
   "execution_count": 59,
   "id": "957234ed-938a-4b93-b0c2-8b5b4dbf1ebe",
   "metadata": {},
   "outputs": [
    {
     "data": {
      "text/plain": [
       "10"
      ]
     },
     "execution_count": 59,
     "metadata": {},
     "output_type": "execute_result"
    }
   ],
   "source": [
    "data[\"language\"].isnull().sum()"
   ]
  },
  {
   "cell_type": "code",
   "execution_count": 60,
   "id": "e9b9ec27-a00c-4dc9-b3db-63885cd4071c",
   "metadata": {},
   "outputs": [],
   "source": [
    "data.dropna(subset=\"language\", inplace=True)"
   ]
  },
  {
   "cell_type": "markdown",
   "id": "ba8d1494-dd5c-4187-a46f-3fa4f21dd21b",
   "metadata": {},
   "source": [
    "COUNTRY"
   ]
  },
  {
   "cell_type": "code",
   "execution_count": 61,
   "id": "890df9b7-46bd-4fa4-854e-e31a7b37b030",
   "metadata": {},
   "outputs": [
    {
     "data": {
      "text/plain": [
       "country\n",
       "USA               3702\n",
       "UK                 438\n",
       "France             152\n",
       "Canada             111\n",
       "Germany             97\n",
       "Australia           55\n",
       "Spain               32\n",
       "India               29\n",
       "China               26\n",
       "Japan               23\n",
       "Italy               20\n",
       "Hong Kong           16\n",
       "New Zealand         15\n",
       "South Korea         12\n",
       "Russia              11\n",
       "Ireland             11\n",
       "Mexico              11\n",
       "Denmark             11\n",
       "Norway               8\n",
       "Brazil               8\n",
       "South Africa         8\n",
       "Sweden               5\n",
       "Netherlands          5\n",
       "Thailand             5\n",
       "Argentina            4\n",
       "Iran                 4\n",
       "Poland               4\n",
       "Israel               3\n",
       "West Germany         3\n",
       "Czech Republic       3\n",
       "Switzerland          3\n",
       "Belgium              3\n",
       "Iceland              3\n",
       "Greece               2\n",
       "Romania              2\n",
       "Hungary              2\n",
       "Taiwan               2\n",
       "Afghanistan          1\n",
       "Pakistan             1\n",
       "Nigeria              1\n",
       "Indonesia            1\n",
       "Kyrgyzstan           1\n",
       "Colombia             1\n",
       "New Line             1\n",
       "Bahamas              1\n",
       "Finland              1\n",
       "Soviet Union         1\n",
       "Turkey               1\n",
       "Georgia              1\n",
       "Chile                1\n",
       "Peru                 1\n",
       "Bulgaria             1\n",
       "Slovakia             1\n",
       "Aruba                1\n",
       "Cambodia             1\n",
       "Official site        1\n",
       "Libya                1\n",
       "Panama               1\n",
       "Philippines          1\n",
       "Name: count, dtype: int64"
      ]
     },
     "execution_count": 61,
     "metadata": {},
     "output_type": "execute_result"
    }
   ],
   "source": [
    "data[\"country\"].value_counts()"
   ]
  },
  {
   "cell_type": "code",
   "execution_count": 62,
   "id": "cd7199b9-f196-4b85-9bc5-9b00deba09fe",
   "metadata": {},
   "outputs": [
    {
     "data": {
      "text/plain": [
       "0          USA\n",
       "1          USA\n",
       "2           UK\n",
       "3          USA\n",
       "5          USA\n",
       "         ...  \n",
       "5036       USA\n",
       "5037       USA\n",
       "5038    Canada\n",
       "5039       USA\n",
       "5042       USA\n",
       "Name: country, Length: 4873, dtype: object"
      ]
     },
     "execution_count": 62,
     "metadata": {},
     "output_type": "execute_result"
    }
   ],
   "source": [
    "data[\"country\"]"
   ]
  },
  {
   "cell_type": "code",
   "execution_count": 63,
   "id": "abb4e812-e1c9-44ba-9776-52c559addacb",
   "metadata": {},
   "outputs": [
    {
     "data": {
      "text/plain": [
       "2"
      ]
     },
     "execution_count": 63,
     "metadata": {},
     "output_type": "execute_result"
    }
   ],
   "source": [
    "data[\"country\"].isnull().sum()"
   ]
  },
  {
   "cell_type": "code",
   "execution_count": 64,
   "id": "e50834f8-eaae-40b7-984f-d2a1d75d2d7b",
   "metadata": {},
   "outputs": [],
   "source": [
    "data.dropna(subset=\"country\", inplace=True)"
   ]
  },
  {
   "cell_type": "markdown",
   "id": "2bfe3cfc-2d21-4d2a-8f98-c68bbbf13ef9",
   "metadata": {},
   "source": [
    "CONTENT RATING"
   ]
  },
  {
   "cell_type": "code",
   "execution_count": 65,
   "id": "092aeb94-bd23-4436-a0c1-32a8d729d55c",
   "metadata": {},
   "outputs": [
    {
     "data": {
      "text/plain": [
       "0           PG-13\n",
       "1           PG-13\n",
       "2           PG-13\n",
       "3           PG-13\n",
       "5           PG-13\n",
       "          ...    \n",
       "5036        PG-13\n",
       "5037    Not Rated\n",
       "5038          NaN\n",
       "5039        TV-14\n",
       "5042           PG\n",
       "Name: content_rating, Length: 4871, dtype: object"
      ]
     },
     "execution_count": 65,
     "metadata": {},
     "output_type": "execute_result"
    }
   ],
   "source": [
    "data[\"content_rating\"]"
   ]
  },
  {
   "cell_type": "code",
   "execution_count": 66,
   "id": "bf2a83e7-2211-4948-bb4b-498799295a1f",
   "metadata": {},
   "outputs": [
    {
     "data": {
      "text/plain": [
       "content_rating\n",
       "R            2085\n",
       "PG-13        1445\n",
       "PG            685\n",
       "G             112\n",
       "Not Rated     104\n",
       "Unrated        61\n",
       "Approved       55\n",
       "TV-14          27\n",
       "TV-MA          18\n",
       "X              13\n",
       "TV-PG          12\n",
       "TV-G            9\n",
       "Passed          9\n",
       "NC-17           7\n",
       "GP              6\n",
       "M               5\n",
       "TV-Y            1\n",
       "TV-Y7           1\n",
       "Name: count, dtype: int64"
      ]
     },
     "execution_count": 66,
     "metadata": {},
     "output_type": "execute_result"
    }
   ],
   "source": [
    "data[\"content_rating\"].value_counts()"
   ]
  },
  {
   "cell_type": "code",
   "execution_count": 67,
   "id": "db826106-cd22-4d43-8bb3-a4843acba948",
   "metadata": {},
   "outputs": [
    {
     "data": {
      "text/plain": [
       "216"
      ]
     },
     "execution_count": 67,
     "metadata": {},
     "output_type": "execute_result"
    }
   ],
   "source": [
    "data[\"content_rating\"].isnull().sum()"
   ]
  },
  {
   "cell_type": "code",
   "execution_count": 68,
   "id": "6db065d2-6a40-41af-b7ae-9ac1ac5f9787",
   "metadata": {},
   "outputs": [],
   "source": [
    "data[\"content_rating\"].fillna(data[\"content_rating\"].mode()[0], inplace=True)"
   ]
  },
  {
   "cell_type": "markdown",
   "id": "955ed169-d2c9-4880-b4e2-bdd5e2e11403",
   "metadata": {},
   "source": [
    "BUDGET"
   ]
  },
  {
   "cell_type": "code",
   "execution_count": 69,
   "id": "3f942c76-a70f-4c7d-9182-571b6bf4fd5c",
   "metadata": {},
   "outputs": [
    {
     "data": {
      "text/plain": [
       "0       237000000.0\n",
       "1       300000000.0\n",
       "2       245000000.0\n",
       "3       250000000.0\n",
       "5       263700000.0\n",
       "           ...     \n",
       "5036         3250.0\n",
       "5037         9000.0\n",
       "5038            NaN\n",
       "5039            NaN\n",
       "5042         1100.0\n",
       "Name: budget, Length: 4871, dtype: float64"
      ]
     },
     "execution_count": 69,
     "metadata": {},
     "output_type": "execute_result"
    }
   ],
   "source": [
    "data[\"budget\"]"
   ]
  },
  {
   "cell_type": "code",
   "execution_count": 70,
   "id": "dd47fca4-cf3a-4bc8-b427-2f9af1964c26",
   "metadata": {},
   "outputs": [
    {
     "data": {
      "text/plain": [
       "448"
      ]
     },
     "execution_count": 70,
     "metadata": {},
     "output_type": "execute_result"
    }
   ],
   "source": [
    "data[\"budget\"].isnull().sum()"
   ]
  },
  {
   "cell_type": "code",
   "execution_count": 71,
   "id": "f8f9832a-be94-474d-bb4e-b45b12398c9a",
   "metadata": {},
   "outputs": [],
   "source": [
    "data[\"budget\"].fillna(data[\"budget\"].mean(),inplace=True)"
   ]
  },
  {
   "cell_type": "markdown",
   "id": "922fc455-9c67-4552-83d5-2d143afe3578",
   "metadata": {},
   "source": [
    "TITLE YEAR"
   ]
  },
  {
   "cell_type": "code",
   "execution_count": 72,
   "id": "3d659e30-7b0d-4c27-ac69-518ae512ee00",
   "metadata": {},
   "outputs": [
    {
     "data": {
      "text/plain": [
       "0       2009.0\n",
       "1       2007.0\n",
       "2       2015.0\n",
       "3       2012.0\n",
       "5       2012.0\n",
       "         ...  \n",
       "5036    2005.0\n",
       "5037    2011.0\n",
       "5038    2013.0\n",
       "5039       NaN\n",
       "5042    2004.0\n",
       "Name: title_year, Length: 4871, dtype: float64"
      ]
     },
     "execution_count": 72,
     "metadata": {},
     "output_type": "execute_result"
    }
   ],
   "source": [
    "data[\"title_year\"]"
   ]
  },
  {
   "cell_type": "code",
   "execution_count": 73,
   "id": "501f57fc-f254-46f1-9512-e614e36de0b7",
   "metadata": {},
   "outputs": [
    {
     "data": {
      "text/plain": [
       "92"
      ]
     },
     "execution_count": 73,
     "metadata": {},
     "output_type": "execute_result"
    }
   ],
   "source": [
    "data[\"title_year\"].isnull().sum()"
   ]
  },
  {
   "cell_type": "code",
   "execution_count": 74,
   "id": "3711009f-2ae6-4773-bdc8-9849295a0bcd",
   "metadata": {},
   "outputs": [],
   "source": [
    "data.dropna(subset=\"title_year\",inplace=True)"
   ]
  },
  {
   "cell_type": "code",
   "execution_count": 75,
   "id": "d7ffae5b-fbe7-4f67-9637-24afc2b110f6",
   "metadata": {},
   "outputs": [],
   "source": [
    "data[\"title_year\"]=data[\"title_year\"].astype(int)"
   ]
  },
  {
   "cell_type": "code",
   "execution_count": 76,
   "id": "6b1a7066-b8f0-4e02-8b46-04134bcdfb84",
   "metadata": {},
   "outputs": [
    {
     "data": {
      "text/plain": [
       "dtype('int32')"
      ]
     },
     "execution_count": 76,
     "metadata": {},
     "output_type": "execute_result"
    }
   ],
   "source": [
    "data[\"title_year\"].dtype"
   ]
  },
  {
   "cell_type": "markdown",
   "id": "10933f15-1e3a-41f8-8fd9-1bf476fe81d2",
   "metadata": {},
   "source": [
    "IMBD SCORE"
   ]
  },
  {
   "cell_type": "code",
   "execution_count": 77,
   "id": "ce7c7026-e8ca-44be-a739-4d937cad44e5",
   "metadata": {},
   "outputs": [
    {
     "data": {
      "text/plain": [
       "0       7.9\n",
       "1       7.1\n",
       "2       6.8\n",
       "3       8.5\n",
       "5       6.6\n",
       "       ... \n",
       "5035    6.9\n",
       "5036    7.8\n",
       "5037    6.4\n",
       "5038    7.7\n",
       "5042    6.6\n",
       "Name: imdb_score, Length: 4779, dtype: float64"
      ]
     },
     "execution_count": 77,
     "metadata": {},
     "output_type": "execute_result"
    }
   ],
   "source": [
    "data[\"imdb_score\"]"
   ]
  },
  {
   "cell_type": "code",
   "execution_count": 78,
   "id": "8b693f9d-382a-4366-ad82-ffa672dea649",
   "metadata": {},
   "outputs": [
    {
     "data": {
      "text/plain": [
       "0"
      ]
     },
     "execution_count": 78,
     "metadata": {},
     "output_type": "execute_result"
    }
   ],
   "source": [
    "data[\"imdb_score\"].isnull().sum()"
   ]
  },
  {
   "cell_type": "code",
   "execution_count": 79,
   "id": "8e14761f-e03b-418c-8bba-b5af69f9b2bf",
   "metadata": {},
   "outputs": [
    {
     "data": {
      "text/plain": [
       "count    4779.000000\n",
       "mean        6.430320\n",
       "std         1.103097\n",
       "min         1.600000\n",
       "25%         5.800000\n",
       "50%         6.600000\n",
       "75%         7.200000\n",
       "max         9.300000\n",
       "Name: imdb_score, dtype: float64"
      ]
     },
     "execution_count": 79,
     "metadata": {},
     "output_type": "execute_result"
    }
   ],
   "source": [
    "data[\"imdb_score\"].describe()"
   ]
  },
  {
   "cell_type": "markdown",
   "id": "c3ee4069-7826-4dbe-aa26-58a4a5d4eb2a",
   "metadata": {},
   "source": [
    "ASPECT RATIO"
   ]
  },
  {
   "cell_type": "code",
   "execution_count": 80,
   "id": "f7558e00-9970-499d-bc99-fdc1d1b01277",
   "metadata": {},
   "outputs": [
    {
     "data": {
      "text/plain": [
       "0       1.78\n",
       "1       2.35\n",
       "2       2.35\n",
       "3       2.35\n",
       "5       2.35\n",
       "        ... \n",
       "5035    1.37\n",
       "5036     NaN\n",
       "5037     NaN\n",
       "5038     NaN\n",
       "5042    1.85\n",
       "Name: aspect_ratio, Length: 4779, dtype: float64"
      ]
     },
     "execution_count": 80,
     "metadata": {},
     "output_type": "execute_result"
    }
   ],
   "source": [
    "data.aspect_ratio"
   ]
  },
  {
   "cell_type": "code",
   "execution_count": 81,
   "id": "d2592a82-fd60-4229-93ad-ce0595c9a97e",
   "metadata": {},
   "outputs": [
    {
     "data": {
      "text/plain": [
       "225"
      ]
     },
     "execution_count": 81,
     "metadata": {},
     "output_type": "execute_result"
    }
   ],
   "source": [
    "data.aspect_ratio.isnull().sum()"
   ]
  },
  {
   "cell_type": "code",
   "execution_count": 82,
   "id": "4f5752b9-be4c-4516-aacc-42dcfe9605a9",
   "metadata": {},
   "outputs": [],
   "source": [
    "data.aspect_ratio.fillna(data.aspect_ratio.mean(),inplace=True)"
   ]
  },
  {
   "cell_type": "markdown",
   "id": "30e43c8d-28be-44df-b2c9-9217c5dfc6e9",
   "metadata": {},
   "source": [
    "CLEANED DATA"
   ]
  },
  {
   "cell_type": "code",
   "execution_count": 83,
   "id": "0bc09e94-9c42-4097-8477-126b2c7b2f8c",
   "metadata": {},
   "outputs": [
    {
     "data": {
      "text/html": [
       "<div>\n",
       "<style scoped>\n",
       "    .dataframe tbody tr th:only-of-type {\n",
       "        vertical-align: middle;\n",
       "    }\n",
       "\n",
       "    .dataframe tbody tr th {\n",
       "        vertical-align: top;\n",
       "    }\n",
       "\n",
       "    .dataframe thead th {\n",
       "        text-align: right;\n",
       "    }\n",
       "</style>\n",
       "<table border=\"1\" class=\"dataframe\">\n",
       "  <thead>\n",
       "    <tr style=\"text-align: right;\">\n",
       "      <th></th>\n",
       "      <th>color</th>\n",
       "      <th>director_name</th>\n",
       "      <th>num_critic_for_reviews</th>\n",
       "      <th>duration</th>\n",
       "      <th>actor_2_name</th>\n",
       "      <th>gross</th>\n",
       "      <th>genres</th>\n",
       "      <th>actor_1_name</th>\n",
       "      <th>movie_title</th>\n",
       "      <th>num_voted_users</th>\n",
       "      <th>actor_3_name</th>\n",
       "      <th>plot_keywords</th>\n",
       "      <th>num_user_for_reviews</th>\n",
       "      <th>language</th>\n",
       "      <th>country</th>\n",
       "      <th>content_rating</th>\n",
       "      <th>budget</th>\n",
       "      <th>title_year</th>\n",
       "      <th>imdb_score</th>\n",
       "      <th>aspect_ratio</th>\n",
       "    </tr>\n",
       "  </thead>\n",
       "  <tbody>\n",
       "    <tr>\n",
       "      <th>0</th>\n",
       "      <td>Color</td>\n",
       "      <td>James Cameron</td>\n",
       "      <td>723.000000</td>\n",
       "      <td>178.0</td>\n",
       "      <td>Joel David Moore</td>\n",
       "      <td>7.605058e+08</td>\n",
       "      <td>Action|Adventure|Fantasy|Sci-Fi</td>\n",
       "      <td>CCH Pounder</td>\n",
       "      <td>Avatar</td>\n",
       "      <td>886204</td>\n",
       "      <td>Wes Studi</td>\n",
       "      <td>avatar|future|marine|native|paraplegic</td>\n",
       "      <td>3054</td>\n",
       "      <td>English</td>\n",
       "      <td>USA</td>\n",
       "      <td>PG-13</td>\n",
       "      <td>2.370000e+08</td>\n",
       "      <td>2009</td>\n",
       "      <td>7.9</td>\n",
       "      <td>1.78000</td>\n",
       "    </tr>\n",
       "    <tr>\n",
       "      <th>1</th>\n",
       "      <td>Color</td>\n",
       "      <td>Gore Verbinski</td>\n",
       "      <td>302.000000</td>\n",
       "      <td>169.0</td>\n",
       "      <td>Orlando Bloom</td>\n",
       "      <td>3.094042e+08</td>\n",
       "      <td>Action|Adventure|Fantasy</td>\n",
       "      <td>Johnny Depp</td>\n",
       "      <td>Pirates of the Caribbean: At World's End</td>\n",
       "      <td>471220</td>\n",
       "      <td>Jack Davenport</td>\n",
       "      <td>goddess|marriage ceremony|marriage proposal|pi...</td>\n",
       "      <td>1238</td>\n",
       "      <td>English</td>\n",
       "      <td>USA</td>\n",
       "      <td>PG-13</td>\n",
       "      <td>3.000000e+08</td>\n",
       "      <td>2007</td>\n",
       "      <td>7.1</td>\n",
       "      <td>2.35000</td>\n",
       "    </tr>\n",
       "    <tr>\n",
       "      <th>2</th>\n",
       "      <td>Color</td>\n",
       "      <td>Sam Mendes</td>\n",
       "      <td>602.000000</td>\n",
       "      <td>148.0</td>\n",
       "      <td>Rory Kinnear</td>\n",
       "      <td>2.000742e+08</td>\n",
       "      <td>Action|Adventure|Thriller</td>\n",
       "      <td>Christoph Waltz</td>\n",
       "      <td>Spectre</td>\n",
       "      <td>275868</td>\n",
       "      <td>Stephanie Sigman</td>\n",
       "      <td>bomb|espionage|sequel|spy|terrorist</td>\n",
       "      <td>994</td>\n",
       "      <td>English</td>\n",
       "      <td>UK</td>\n",
       "      <td>PG-13</td>\n",
       "      <td>2.450000e+08</td>\n",
       "      <td>2015</td>\n",
       "      <td>6.8</td>\n",
       "      <td>2.35000</td>\n",
       "    </tr>\n",
       "    <tr>\n",
       "      <th>3</th>\n",
       "      <td>Color</td>\n",
       "      <td>Christopher Nolan</td>\n",
       "      <td>813.000000</td>\n",
       "      <td>164.0</td>\n",
       "      <td>Christian Bale</td>\n",
       "      <td>4.481306e+08</td>\n",
       "      <td>Action|Thriller</td>\n",
       "      <td>Tom Hardy</td>\n",
       "      <td>The Dark Knight Rises</td>\n",
       "      <td>1144337</td>\n",
       "      <td>Joseph Gordon-Levitt</td>\n",
       "      <td>deception|imprisonment|lawlessness|police offi...</td>\n",
       "      <td>2701</td>\n",
       "      <td>English</td>\n",
       "      <td>USA</td>\n",
       "      <td>PG-13</td>\n",
       "      <td>2.500000e+08</td>\n",
       "      <td>2012</td>\n",
       "      <td>8.5</td>\n",
       "      <td>2.35000</td>\n",
       "    </tr>\n",
       "    <tr>\n",
       "      <th>5</th>\n",
       "      <td>Color</td>\n",
       "      <td>Andrew Stanton</td>\n",
       "      <td>462.000000</td>\n",
       "      <td>132.0</td>\n",
       "      <td>Samantha Morton</td>\n",
       "      <td>7.305868e+07</td>\n",
       "      <td>Action|Adventure|Sci-Fi</td>\n",
       "      <td>Daryl Sabara</td>\n",
       "      <td>John Carter</td>\n",
       "      <td>212204</td>\n",
       "      <td>Polly Walker</td>\n",
       "      <td>alien|american civil war|male nipple|mars|prin...</td>\n",
       "      <td>738</td>\n",
       "      <td>English</td>\n",
       "      <td>USA</td>\n",
       "      <td>PG-13</td>\n",
       "      <td>2.637000e+08</td>\n",
       "      <td>2012</td>\n",
       "      <td>6.6</td>\n",
       "      <td>2.35000</td>\n",
       "    </tr>\n",
       "    <tr>\n",
       "      <th>...</th>\n",
       "      <td>...</td>\n",
       "      <td>...</td>\n",
       "      <td>...</td>\n",
       "      <td>...</td>\n",
       "      <td>...</td>\n",
       "      <td>...</td>\n",
       "      <td>...</td>\n",
       "      <td>...</td>\n",
       "      <td>...</td>\n",
       "      <td>...</td>\n",
       "      <td>...</td>\n",
       "      <td>...</td>\n",
       "      <td>...</td>\n",
       "      <td>...</td>\n",
       "      <td>...</td>\n",
       "      <td>...</td>\n",
       "      <td>...</td>\n",
       "      <td>...</td>\n",
       "      <td>...</td>\n",
       "      <td>...</td>\n",
       "    </tr>\n",
       "    <tr>\n",
       "      <th>5035</th>\n",
       "      <td>Color</td>\n",
       "      <td>Robert Rodriguez</td>\n",
       "      <td>56.000000</td>\n",
       "      <td>81.0</td>\n",
       "      <td>Peter Marquardt</td>\n",
       "      <td>2.040920e+06</td>\n",
       "      <td>Action|Crime|Drama|Romance|Thriller</td>\n",
       "      <td>Carlos Gallardo</td>\n",
       "      <td>El Mariachi</td>\n",
       "      <td>52055</td>\n",
       "      <td>Consuelo Gómez</td>\n",
       "      <td>assassin|death|guitar|gun|mariachi</td>\n",
       "      <td>130</td>\n",
       "      <td>Spanish</td>\n",
       "      <td>USA</td>\n",
       "      <td>R</td>\n",
       "      <td>7.000000e+03</td>\n",
       "      <td>1992</td>\n",
       "      <td>6.9</td>\n",
       "      <td>1.37000</td>\n",
       "    </tr>\n",
       "    <tr>\n",
       "      <th>5036</th>\n",
       "      <td>Color</td>\n",
       "      <td>Anthony Vallone</td>\n",
       "      <td>140.194272</td>\n",
       "      <td>84.0</td>\n",
       "      <td>John Considine</td>\n",
       "      <td>4.846841e+07</td>\n",
       "      <td>Crime|Drama</td>\n",
       "      <td>Richard Jewell</td>\n",
       "      <td>The Mongol King</td>\n",
       "      <td>36</td>\n",
       "      <td>Sara Stepnicka</td>\n",
       "      <td>jewell|mongol|nostradamus|stepnicka|vallone</td>\n",
       "      <td>1</td>\n",
       "      <td>English</td>\n",
       "      <td>USA</td>\n",
       "      <td>PG-13</td>\n",
       "      <td>3.250000e+03</td>\n",
       "      <td>2005</td>\n",
       "      <td>7.8</td>\n",
       "      <td>2.12087</td>\n",
       "    </tr>\n",
       "    <tr>\n",
       "      <th>5037</th>\n",
       "      <td>Color</td>\n",
       "      <td>Edward Burns</td>\n",
       "      <td>14.000000</td>\n",
       "      <td>95.0</td>\n",
       "      <td>Caitlin FitzGerald</td>\n",
       "      <td>4.584000e+03</td>\n",
       "      <td>Comedy|Drama</td>\n",
       "      <td>Kerry Bishé</td>\n",
       "      <td>Newlyweds</td>\n",
       "      <td>1338</td>\n",
       "      <td>Daniella Pineda</td>\n",
       "      <td>written and directed by cast member</td>\n",
       "      <td>14</td>\n",
       "      <td>English</td>\n",
       "      <td>USA</td>\n",
       "      <td>Not Rated</td>\n",
       "      <td>9.000000e+03</td>\n",
       "      <td>2011</td>\n",
       "      <td>6.4</td>\n",
       "      <td>2.12087</td>\n",
       "    </tr>\n",
       "    <tr>\n",
       "      <th>5038</th>\n",
       "      <td>Color</td>\n",
       "      <td>Scott Smith</td>\n",
       "      <td>1.000000</td>\n",
       "      <td>87.0</td>\n",
       "      <td>Daphne Zuniga</td>\n",
       "      <td>4.846841e+07</td>\n",
       "      <td>Comedy|Drama</td>\n",
       "      <td>Eric Mabius</td>\n",
       "      <td>Signed Sealed Delivered</td>\n",
       "      <td>629</td>\n",
       "      <td>Crystal Lowe</td>\n",
       "      <td>fraud|postal worker|prison|theft|trial</td>\n",
       "      <td>6</td>\n",
       "      <td>English</td>\n",
       "      <td>Canada</td>\n",
       "      <td>R</td>\n",
       "      <td>4.071267e+07</td>\n",
       "      <td>2013</td>\n",
       "      <td>7.7</td>\n",
       "      <td>2.12087</td>\n",
       "    </tr>\n",
       "    <tr>\n",
       "      <th>5042</th>\n",
       "      <td>Color</td>\n",
       "      <td>Jon Gunn</td>\n",
       "      <td>43.000000</td>\n",
       "      <td>90.0</td>\n",
       "      <td>Brian Herzlinger</td>\n",
       "      <td>8.522200e+04</td>\n",
       "      <td>Documentary</td>\n",
       "      <td>John August</td>\n",
       "      <td>My Date with Drew</td>\n",
       "      <td>4285</td>\n",
       "      <td>Jon Gunn</td>\n",
       "      <td>actress name in title|crush|date|four word tit...</td>\n",
       "      <td>84</td>\n",
       "      <td>English</td>\n",
       "      <td>USA</td>\n",
       "      <td>PG</td>\n",
       "      <td>1.100000e+03</td>\n",
       "      <td>2004</td>\n",
       "      <td>6.6</td>\n",
       "      <td>1.85000</td>\n",
       "    </tr>\n",
       "  </tbody>\n",
       "</table>\n",
       "<p>4779 rows × 20 columns</p>\n",
       "</div>"
      ],
      "text/plain": [
       "      color      director_name  num_critic_for_reviews  duration  \\\n",
       "0     Color      James Cameron              723.000000     178.0   \n",
       "1     Color     Gore Verbinski              302.000000     169.0   \n",
       "2     Color         Sam Mendes              602.000000     148.0   \n",
       "3     Color  Christopher Nolan              813.000000     164.0   \n",
       "5     Color     Andrew Stanton              462.000000     132.0   \n",
       "...     ...                ...                     ...       ...   \n",
       "5035  Color   Robert Rodriguez               56.000000      81.0   \n",
       "5036  Color    Anthony Vallone              140.194272      84.0   \n",
       "5037  Color       Edward Burns               14.000000      95.0   \n",
       "5038  Color        Scott Smith                1.000000      87.0   \n",
       "5042  Color           Jon Gunn               43.000000      90.0   \n",
       "\n",
       "            actor_2_name         gross                               genres  \\\n",
       "0       Joel David Moore  7.605058e+08      Action|Adventure|Fantasy|Sci-Fi   \n",
       "1          Orlando Bloom  3.094042e+08             Action|Adventure|Fantasy   \n",
       "2           Rory Kinnear  2.000742e+08            Action|Adventure|Thriller   \n",
       "3         Christian Bale  4.481306e+08                      Action|Thriller   \n",
       "5        Samantha Morton  7.305868e+07              Action|Adventure|Sci-Fi   \n",
       "...                  ...           ...                                  ...   \n",
       "5035     Peter Marquardt  2.040920e+06  Action|Crime|Drama|Romance|Thriller   \n",
       "5036      John Considine  4.846841e+07                          Crime|Drama   \n",
       "5037  Caitlin FitzGerald  4.584000e+03                         Comedy|Drama   \n",
       "5038       Daphne Zuniga  4.846841e+07                         Comedy|Drama   \n",
       "5042    Brian Herzlinger  8.522200e+04                          Documentary   \n",
       "\n",
       "         actor_1_name                                movie_title  \\\n",
       "0         CCH Pounder                                    Avatar    \n",
       "1         Johnny Depp  Pirates of the Caribbean: At World's End    \n",
       "2     Christoph Waltz                                   Spectre    \n",
       "3           Tom Hardy                     The Dark Knight Rises    \n",
       "5        Daryl Sabara                               John Carter    \n",
       "...               ...                                        ...   \n",
       "5035  Carlos Gallardo                               El Mariachi    \n",
       "5036   Richard Jewell                           The Mongol King    \n",
       "5037      Kerry Bishé                                 Newlyweds    \n",
       "5038      Eric Mabius                   Signed Sealed Delivered    \n",
       "5042      John August                         My Date with Drew    \n",
       "\n",
       "      num_voted_users          actor_3_name  \\\n",
       "0              886204             Wes Studi   \n",
       "1              471220        Jack Davenport   \n",
       "2              275868      Stephanie Sigman   \n",
       "3             1144337  Joseph Gordon-Levitt   \n",
       "5              212204          Polly Walker   \n",
       "...               ...                   ...   \n",
       "5035            52055        Consuelo Gómez   \n",
       "5036               36        Sara Stepnicka   \n",
       "5037             1338       Daniella Pineda   \n",
       "5038              629          Crystal Lowe   \n",
       "5042             4285              Jon Gunn   \n",
       "\n",
       "                                          plot_keywords  num_user_for_reviews  \\\n",
       "0                avatar|future|marine|native|paraplegic                  3054   \n",
       "1     goddess|marriage ceremony|marriage proposal|pi...                  1238   \n",
       "2                   bomb|espionage|sequel|spy|terrorist                   994   \n",
       "3     deception|imprisonment|lawlessness|police offi...                  2701   \n",
       "5     alien|american civil war|male nipple|mars|prin...                   738   \n",
       "...                                                 ...                   ...   \n",
       "5035                 assassin|death|guitar|gun|mariachi                   130   \n",
       "5036        jewell|mongol|nostradamus|stepnicka|vallone                     1   \n",
       "5037                written and directed by cast member                    14   \n",
       "5038             fraud|postal worker|prison|theft|trial                     6   \n",
       "5042  actress name in title|crush|date|four word tit...                    84   \n",
       "\n",
       "     language country content_rating        budget  title_year  imdb_score  \\\n",
       "0     English     USA          PG-13  2.370000e+08        2009         7.9   \n",
       "1     English     USA          PG-13  3.000000e+08        2007         7.1   \n",
       "2     English      UK          PG-13  2.450000e+08        2015         6.8   \n",
       "3     English     USA          PG-13  2.500000e+08        2012         8.5   \n",
       "5     English     USA          PG-13  2.637000e+08        2012         6.6   \n",
       "...       ...     ...            ...           ...         ...         ...   \n",
       "5035  Spanish     USA              R  7.000000e+03        1992         6.9   \n",
       "5036  English     USA          PG-13  3.250000e+03        2005         7.8   \n",
       "5037  English     USA      Not Rated  9.000000e+03        2011         6.4   \n",
       "5038  English  Canada              R  4.071267e+07        2013         7.7   \n",
       "5042  English     USA             PG  1.100000e+03        2004         6.6   \n",
       "\n",
       "      aspect_ratio  \n",
       "0          1.78000  \n",
       "1          2.35000  \n",
       "2          2.35000  \n",
       "3          2.35000  \n",
       "5          2.35000  \n",
       "...            ...  \n",
       "5035       1.37000  \n",
       "5036       2.12087  \n",
       "5037       2.12087  \n",
       "5038       2.12087  \n",
       "5042       1.85000  \n",
       "\n",
       "[4779 rows x 20 columns]"
      ]
     },
     "execution_count": 83,
     "metadata": {},
     "output_type": "execute_result"
    }
   ],
   "source": [
    "data"
   ]
  },
  {
   "cell_type": "code",
   "execution_count": 84,
   "id": "75d54426-aa44-41e0-a41d-46f0d2b6fd94",
   "metadata": {},
   "outputs": [
    {
     "data": {
      "text/plain": [
       "color                      object\n",
       "director_name              object\n",
       "num_critic_for_reviews    float64\n",
       "duration                  float64\n",
       "actor_2_name               object\n",
       "gross                     float64\n",
       "genres                     object\n",
       "actor_1_name               object\n",
       "movie_title                object\n",
       "num_voted_users             int64\n",
       "actor_3_name               object\n",
       "plot_keywords              object\n",
       "num_user_for_reviews        int32\n",
       "language                   object\n",
       "country                    object\n",
       "content_rating             object\n",
       "budget                    float64\n",
       "title_year                  int32\n",
       "imdb_score                float64\n",
       "aspect_ratio              float64\n",
       "dtype: object"
      ]
     },
     "execution_count": 84,
     "metadata": {},
     "output_type": "execute_result"
    }
   ],
   "source": [
    "data.dtypes"
   ]
  },
  {
   "cell_type": "code",
   "execution_count": 85,
   "id": "194aa716-f318-422c-a9c0-becda0cd127c",
   "metadata": {},
   "outputs": [],
   "source": [
    "data.to_csv(\"imdb_data.csv\")"
   ]
  },
  {
   "cell_type": "markdown",
   "id": "d1cb2833-4db0-4665-a1d9-ddcab13f7bca",
   "metadata": {},
   "source": [
    "VISULAIZATION"
   ]
  },
  {
   "cell_type": "code",
   "execution_count": 86,
   "id": "04d7012b-9cd8-4829-a788-67034bd5bd1d",
   "metadata": {},
   "outputs": [
    {
     "data": {
      "image/png": "[encoded data removed]",
      "text/plain": [
       "<Figure size 2000x1500 with 9 Axes>"
      ]
     },
     "metadata": {},
     "output_type": "display_data"
    }
   ],
   "source": [
    "data.hist(bins=50, figsize=(20,15))\n",
    "plt.show()"
   ]
  },
  {
   "cell_type": "code",
   "execution_count": 87,
   "id": "8922dfe9-a38f-4de9-85e7-ff7175331c0f",
   "metadata": {},
   "outputs": [
    {
     "data": {
      "image/png": "[encoded data removed]",
      "text/plain": [
       "<Figure size 800x600 with 1 Axes>"
      ]
     },
     "metadata": {},
     "output_type": "display_data"
    }
   ],
   "source": [
    "import matplotlib.pyplot as plt\n",
    "\n",
    "# Assuming 'df' is your DataFrame with columns 'variable1' and 'variable2' (replace these with your actual column names)\n",
    "plt.figure(figsize=(8, 6))\n",
    "plt.scatter(data['duration'], data['imdb_score'], alpha=0.5, color='blue')  # 'alpha' controls point transparency\n",
    "plt.xlabel('duration')\n",
    "plt.ylabel('imdb_score')\n",
    "plt.title('Duration vs IMDB Score')\n",
    "plt.grid(True)  # Add gridlines for better readability\n",
    "plt.tight_layout()\n",
    "plt.show()\n"
   ]
  },
  {
   "cell_type": "code",
   "execution_count": 88,
   "id": "d2fa1628-5d86-4990-bd65-376d8068eafc",
   "metadata": {},
   "outputs": [
    {
     "data": {
      "image/png": "[encoded data removed]",
      "text/plain": [
       "<Figure size 500x500 with 1 Axes>"
      ]
     },
     "metadata": {},
     "output_type": "display_data"
    }
   ],
   "source": [
    "plt.figure(figsize=(5,5))\n",
    "plt.scatter(data['gross'], data['budget'], alpha=0.5, color='blue')  # 'alpha' controls point transparency\n",
    "plt.xlabel('duration')\n",
    "plt.ylabel('imdb_score')\n",
    "plt.title('Duration vs IMDB Score')\n",
    "plt.grid(True)  # Add gridlines for better readability\n",
    "plt.tight_layout()\n",
    "plt.show()\n"
   ]
  },
  {
   "cell_type": "code",
   "execution_count": 89,
   "id": "2f69b877-a2d5-446f-b1bc-46b9848aeaf7",
   "metadata": {},
   "outputs": [
    {
     "data": {
      "image/png": "[encoded data removed]",
      "text/plain": [
       "<Figure size 800x600 with 1 Axes>"
      ]
     },
     "metadata": {},
     "output_type": "display_data"
    }
   ],
   "source": [
    "plt.figure(figsize=(8, 6))\n",
    "\n",
    "# Plot distribution for the 'color' column\n",
    "sns.countplot(x='color', data=data)\n",
    "\n",
    "# Set plot title and labels\n",
    "plt.title('Distribution of Color')\n",
    "plt.xlabel('Color')\n",
    "plt.ylabel('Count')\n",
    "# Display the plot\n",
    "plt.show()"
   ]
  },
  {
   "cell_type": "code",
   "execution_count": 90,
   "id": "8800dd55-40b4-4bad-a09b-cd8c635181af",
   "metadata": {},
   "outputs": [
    {
     "name": "stderr",
     "output_type": "stream",
     "text": [
      "C:\\Users\\elcot\\AppData\\Local\\Temp\\ipykernel_9812\\328199784.py:11: FutureWarning: \n",
      "\n",
      "Passing `palette` without assigning `hue` is deprecated and will be removed in v0.14.0. Assign the `x` variable to `hue` and set `legend=False` for the same effect.\n",
      "\n",
      "  sns.countplot(x='director_name', data=filtered_data, order=top_directors, palette='viridis')\n"
     ]
    },
    {
     "data": {
      "image/png": "[encoded data removed]",
      "text/plain": [
       "<Figure size 1200x800 with 1 Axes>"
      ]
     },
     "metadata": {},
     "output_type": "display_data"
    }
   ],
   "source": [
    "# Get the top 10 directors based on the number of movies\n",
    "top_directors = data['director_name'].value_counts().nlargest(20).index\n",
    "\n",
    "# Filter the DataFrame for the top directors\n",
    "filtered_data = data[data['director_name'].isin(top_directors)]\n",
    "\n",
    "# Set up the figure\n",
    "plt.figure(figsize=(12, 8))\n",
    "\n",
    "# Plot distribution for the 'director_name' column\n",
    "sns.countplot(x='director_name', data=filtered_data, order=top_directors, palette='viridis')\n",
    "\n",
    "# Set plot title and labels\n",
    "plt.title('Top 10 Directors by Number of Movies')\n",
    "plt.xlabel('Director Name')\n",
    "plt.ylabel('Number of Movies')\n",
    "\n",
    "# Rotate x-axis labels for better readability\n",
    "plt.xticks(rotation=45, ha='right')\n",
    "\n",
    "# Display the plot\n",
    "plt.show()"
   ]
  },
  {
   "cell_type": "code",
   "execution_count": 91,
   "id": "ab67e739-10bc-4501-9993-bedd4ce2d7ab",
   "metadata": {},
   "outputs": [
    {
     "name": "stderr",
     "output_type": "stream",
     "text": [
      "C:\\Users\\elcot\\AppData\\Local\\Temp\\ipykernel_9812\\3663858320.py:11: FutureWarning: \n",
      "\n",
      "Passing `palette` without assigning `hue` is deprecated and will be removed in v0.14.0. Assign the `x` variable to `hue` and set `legend=False` for the same effect.\n",
      "\n",
      "  sns.countplot(x='genres', data=filtered_data, order=top_directors, palette='viridis')\n"
     ]
    },
    {
     "data": {
      "image/png": "[encoded data removed]",
      "text/plain": [
       "<Figure size 1200x800 with 1 Axes>"
      ]
     },
     "metadata": {},
     "output_type": "display_data"
    }
   ],
   "source": [
    "# Get the top 10 directors based on the number of movies\n",
    "top_directors = data['genres'].value_counts().nlargest(20).index\n",
    "\n",
    "# Filter the DataFrame for the top directors\n",
    "filtered_data = data[data['genres'].isin(top_directors)]\n",
    "\n",
    "# Set up the figure\n",
    "plt.figure(figsize=(12, 8))\n",
    "\n",
    "# Plot distribution for the 'director_name' column\n",
    "sns.countplot(x='genres', data=filtered_data, order=top_directors, palette='viridis')\n",
    "\n",
    "# Set plot title and labels\n",
    "plt.title('genres by Number of Movies')\n",
    "plt.xlabel('genres Name')\n",
    "plt.ylabel('Number of Movies')\n",
    "\n",
    "# Rotate x-axis labels for better readability\n",
    "plt.xticks(rotation=45, ha='right')\n",
    "\n",
    "# Display the plot\n",
    "plt.show()"
   ]
  }
 ],
 "metadata": {
  "kernelspec": {
   "display_name": "Python 3 (ipykernel)",
   "language": "python",
   "name": "python3"
  },
  "language_info": {
   "codemirror_mode": {
    "name": "ipython",
    "version": 3
   },
   "file_extension": ".py",
   "mimetype": "text/x-python",
   "name": "python",
   "nbconvert_exporter": "python",
   "pygments_lexer": "ipython3",
   "version": "3.12.0"
  }
 },
 "nbformat": 4,
 "nbformat_minor": 5
}
